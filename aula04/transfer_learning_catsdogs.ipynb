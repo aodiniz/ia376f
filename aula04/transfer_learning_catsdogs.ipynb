{
 "cells": [
  {
   "cell_type": "markdown",
   "metadata": {
    "colab_type": "text",
    "id": "V1k0m5wyw5Lg"
   },
   "source": [
    "# Cats and Dogs: Transferência de Aprendizado\n",
    "\n",
    "Serão apresentadas as técnicas de *transfer learning* e *fine tunning*. Elas consistem em\n",
    "utilizar uma rede vencedora da competição anual ImageNet, tanto sua arquitetura como seus\n",
    "parâmetros treinados em uma outra aplicação envolvendo imagens.\n",
    "\n",
    "A ideia consiste em utilizar as camadas convolucionais da rede vencedora e trocar apenas as\n",
    "camadas densas. Num primeiro momento, treina-se apenas as camadas densas (*transfer learning*)\n",
    "e após este treinamento inicial, continua-se o treinamento com as camadas densas e \n",
    "algumas últimas camadas convolucionais da rede (*fine tuning*)\n",
    "\n",
    "Neste notebook utilizam-se as camadas convolucionais de uma rede ResNet já treinada para gerar as \"características\" das imagens e treina-se com uma rede neural densa de duas camadas. "
   ]
  },
  {
   "cell_type": "code",
   "execution_count": 0,
   "metadata": {
    "colab": {},
    "colab_type": "code",
    "id": "vdhNF2Ypw5Lh",
    "outputId": "df22af6f-b6b3-477f-f236-7f44a720783d"
   },
   "outputs": [
    {
     "name": "stdout",
     "output_type": "stream",
     "text": [
      "GPU available: cuda:0\n"
     ]
    }
   ],
   "source": [
    "%matplotlib inline\n",
    "import matplotlib.pyplot as plt\n",
    "from IPython import display\n",
    "\n",
    "import os, glob\n",
    "import PIL.Image\n",
    "\n",
    "import numpy as np\n",
    "import torch\n",
    "from torch import nn\n",
    "import torch.nn.functional as F\n",
    "import torch.utils.data\n",
    "import torch.optim.lr_scheduler\n",
    "import torchvision\n",
    "from torchvision import transforms\n",
    "from torchvision import datasets\n",
    "\n",
    "from lib import pytorch_trainer_v2 as ptt\n",
    "device = torch.device(\"cuda:0\" if torch.cuda.is_available() else \"cpu\")\n",
    "print('GPU available:', device)"
   ]
  },
  {
   "cell_type": "markdown",
   "metadata": {
    "colab_type": "text",
    "id": "7bOvSkrNw5Ln"
   },
   "source": [
    "## Dataset"
   ]
  },
  {
   "cell_type": "code",
   "execution_count": 0,
   "metadata": {
    "colab": {},
    "colab_type": "code",
    "id": "JcwxcVB4w5Lp",
    "outputId": "f50d15ac-f9b2-4484-ca31-d2560075d500"
   },
   "outputs": [
    {
     "name": "stdout",
     "output_type": "stream",
     "text": [
      "File ‘../data/dogscats.zip’ already there; not retrieving.\r\n",
      "\r\n"
     ]
    }
   ],
   "source": [
    "!wget -nc http://files.fast.ai/data/dogscats.zip -P../data/"
   ]
  },
  {
   "cell_type": "code",
   "execution_count": 0,
   "metadata": {
    "colab": {},
    "colab_type": "code",
    "id": "IoL-nDxAw5Lt",
    "outputId": "66aa37b2-0939-49e4-a22d-1e882051b648"
   },
   "outputs": [
    {
     "name": "stdout",
     "output_type": "stream",
     "text": [
      "boston_housing_normalize.npz  dogscats.zip\t    MNIST\r\n",
      "boston_housing.npz\t      Exercicio2.npz\t    movielens_norm.npz\r\n",
      "dogscats\t\t      Exercicio2_teste.npz  sample_submission.csv\r\n"
     ]
    }
   ],
   "source": [
    "!unzip -q ../data/dogscats.zip -d ../data\n",
    "!ls ../data"
   ]
  },
  {
   "cell_type": "code",
   "execution_count": 0,
   "metadata": {
    "colab": {},
    "colab_type": "code",
    "id": "8AlNQma_w5Lx"
   },
   "outputs": [],
   "source": [
    "batch_size = 50\n",
    "#rootdir = '/data/datasets/catsdogs_fewsamples'\n",
    "rootdir = '../data/dogscats/'\n",
    "size_final = (224, 224)\n",
    "transform_noaug = transforms.Compose(\n",
    "            [transforms.Resize(size=size_final),\n",
    "             transforms.ToTensor(),\n",
    "             transforms.Normalize([0.485, 0.456, 0.406], [0.229, 0.224, 0.225])])\n",
    "\n",
    "size_large = (256, 256)\n",
    "transf_comp_train = transforms.Compose([\n",
    "    transforms.Resize(size=size_large),\n",
    "    transforms.ColorJitter(brightness=0.2, contrast=0.2, saturation=0.2, hue=0.2),\n",
    "    transforms.RandomAffine(3, translate=None, scale=(0.95, 1.05), shear=None, resample=False, fillcolor=2),\n",
    "    transforms.RandomHorizontalFlip(),\n",
    "    transforms.RandomCrop(size=size_final),\n",
    "    transforms.ToTensor(),\n",
    "    transforms.Normalize([0.485, 0.456, 0.406], [0.229, 0.224, 0.225])])\n",
    "\n",
    "\n",
    "transf_comp_valid = transforms.Compose([torchvision.transforms.Resize(size=size_final),\n",
    "                                                    torchvision.transforms.ToTensor()])\n",
    "dataset_train = datasets.ImageFolder(rootdir + '/train/',transform = transform_noaug)  ####\n",
    "dataset_valid = datasets.ImageFolder(rootdir + '/valid/',transform = transform_noaug)\n",
    "\n",
    "loader_train = torch.utils.data.DataLoader(dataset_train, batch_size=batch_size, shuffle=True,  num_workers=4)\n",
    "loader_valid = torch.utils.data.DataLoader(dataset_valid, batch_size=batch_size, shuffle=False, num_workers=4)\n"
   ]
  },
  {
   "cell_type": "code",
   "execution_count": 0,
   "metadata": {
    "colab": {},
    "colab_type": "code",
    "id": "_AlD-oVlw5L0",
    "outputId": "3ed990ad-b22a-476c-be9b-ca474c37b8f9"
   },
   "outputs": [
    {
     "data": {
      "text/plain": [
       "(23000, 2000)"
      ]
     },
     "execution_count": 4,
     "metadata": {
      "tags": []
     },
     "output_type": "execute_result"
    }
   ],
   "source": [
    "len(loader_train.dataset), len(loader_valid.dataset)"
   ]
  },
  {
   "cell_type": "code",
   "execution_count": 0,
   "metadata": {
    "colab": {},
    "colab_type": "code",
    "id": "d2ycuqxtw5L4"
   },
   "outputs": [],
   "source": [
    "if True:\n",
    "    "
   ]
  },
  {
   "cell_type": "markdown",
   "metadata": {
    "colab_type": "text",
    "id": "AIODQxyaw5L7"
   },
   "source": [
    "## Data Loader"
   ]
  },
  {
   "cell_type": "code",
   "execution_count": 0,
   "metadata": {
    "colab": {},
    "colab_type": "code",
    "id": "BAMlPa7qw5L8"
   },
   "outputs": [],
   "source": [
    "#loader_train = torch.utils.data.DataLoader(dataset_train, batch_size=len(dataset_train), shuffle=True)\n",
    "#loader_valid = torch.utils.data.DataLoader(dataset_valid, batch_size=len(dataset_valid), shuffle=False)\n",
    "#x_train, y_train = next(iter(loader_train))\n",
    "#x_valid, y_valid = next(iter(loader_valid))"
   ]
  },
  {
   "cell_type": "markdown",
   "metadata": {
    "colab_type": "text",
    "id": "bSeKZpD_w5L_"
   },
   "source": [
    "## Construção da rede neural\n",
    "O *transfer learning* permite que utilizemos uma rede já treinada (a *ResNet34*, utilizando apenas uma parte convolucional da rede) para gerar um vetor de features. Essa primeira parte do modelo será chamado de *MyResNetConv*.\n",
    "\n",
    "É possível utilizar esse vetor de features como entrada de uma rede densa simples, que terá como *output* a saída que será comparada com o resultado desejado. Essa parte final do modelo será chamada de *MyResNetDens*.\n",
    "\n",
    "Essas duas partes serão integradas no modelo *MyResNet*, com o benefício de podermos utilizar a primeira parte para gerar as *features* convolucionais, que serão utilizadas no treinamento exclusivo da segunda parte."
   ]
  },
  {
   "cell_type": "code",
   "execution_count": 0,
   "metadata": {
    "colab": {},
    "colab_type": "code",
    "id": "GF8a8vCIw5MB"
   },
   "outputs": [],
   "source": [
    "class Funit(nn.Module):\n",
    "    def forward(self,x):\n",
    "        return x\n",
    "\n",
    "class MyResNet(nn.Module):\n",
    "    \n",
    "    def __init__(self):\n",
    "        super().__init__()\n",
    "        self.resnet = torchvision.models.resnet34(pretrained=True)    \n",
    "        for param in self.resnet.parameters():\n",
    "            param.requires_grad = False\n",
    "            \n",
    "        n_feat = self.resnet.fc.in_features\n",
    "        self.resnet.fc = Funit()\n",
    "        self.myfc = nn.Linear(n_feat, 2)\n",
    "        \n",
    "    def conv(self, x):\n",
    "        x = self.resnet.forward(x)\n",
    "        x = x.view(x.size(0), -1)\n",
    "        return x\n",
    "\n",
    "    def forward(self, x):\n",
    "        x = self.conv(x)\n",
    "        x = self.myfc(x)\n",
    "        return x\n"
   ]
  },
  {
   "cell_type": "code",
   "execution_count": 0,
   "metadata": {
    "colab": {},
    "colab_type": "code",
    "id": "cJTWvGMaw5ME"
   },
   "outputs": [],
   "source": [
    "model_fast = MyResNet().to(device)"
   ]
  },
  {
   "cell_type": "markdown",
   "metadata": {
    "colab_type": "text",
    "id": "nNXFjqfGw5MH"
   },
   "source": [
    "### Predict das features de uma amostra"
   ]
  },
  {
   "cell_type": "code",
   "execution_count": 0,
   "metadata": {
    "colab": {},
    "colab_type": "code",
    "id": "MCY2hA-6w5MJ",
    "outputId": "59d9a8ad-fca3-4e8a-e095-9704ad42d17d"
   },
   "outputs": [
    {
     "data": {
      "text/plain": [
       "torch.Size([1, 512])"
      ]
     },
     "execution_count": 22,
     "metadata": {
      "tags": []
     },
     "output_type": "execute_result"
    }
   ],
   "source": [
    "x_train, y_train = next(iter(loader_train))\n",
    "y = model_fast.conv(x_train[:1].to(device))\n",
    "y.shape"
   ]
  },
  {
   "cell_type": "markdown",
   "metadata": {
    "colab_type": "text",
    "id": "fQd1jhKAw5MN"
   },
   "source": [
    "### Predict completo de uma amostra"
   ]
  },
  {
   "cell_type": "code",
   "execution_count": 0,
   "metadata": {
    "colab": {},
    "colab_type": "code",
    "id": "hKW6kj61w5MP",
    "outputId": "612e433c-b577-4f24-fb51-3ce197257b7d"
   },
   "outputs": [
    {
     "data": {
      "text/plain": [
       "tensor([[ 0.7571, -0.0491]], device='cuda:0', grad_fn=<ThAddmmBackward>)"
      ]
     },
     "execution_count": 30,
     "metadata": {
      "tags": []
     },
     "output_type": "execute_result"
    }
   ],
   "source": [
    "y = model_fast(x_train[:1].to(device))\n",
    "y"
   ]
  },
  {
   "cell_type": "markdown",
   "metadata": {
    "colab_type": "text",
    "id": "sz5MDbwcw5MT"
   },
   "source": [
    "## Pré calculando as features"
   ]
  },
  {
   "cell_type": "code",
   "execution_count": 0,
   "metadata": {
    "colab": {},
    "colab_type": "code",
    "id": "qHouFbfiw5MT"
   },
   "outputs": [],
   "source": [
    "def predict_loader(model, data_loader):\n",
    "    predictions = []\n",
    "    labels = []\n",
    "    with torch.no_grad():\n",
    "        for k,(X,Y) in enumerate(data_loader):\n",
    "            Ypred = model(X.to(device))\n",
    "            Ypred = Ypred.cpu().data\n",
    "            predictions.append(Ypred)\n",
    "            labels.append(Y)\n",
    "            print(k,end='\\r')\n",
    "    return torch.cat(predictions, 0), torch.cat(labels, 0)"
   ]
  },
  {
   "cell_type": "code",
   "execution_count": 0,
   "metadata": {
    "colab": {},
    "colab_type": "code",
    "id": "-Ryay3P1w5MW",
    "outputId": "3ce97987-bbc6-4728-ab7d-8f487eb5fba7"
   },
   "outputs": [
    {
     "name": "stdout",
     "output_type": "stream",
     "text": [
      "torch.Size([23000, 512])\n",
      "torch.Size([2000, 512])\n"
     ]
    }
   ],
   "source": [
    "model_fast.eval()\n",
    "f_train, y_train = predict_loader(model_fast.conv,loader_train)\n",
    "print(f_train.shape)\n",
    "f_valid, y_valid = predict_loader(model_fast.conv,loader_valid)\n",
    "print(f_valid.shape)"
   ]
  },
  {
   "cell_type": "markdown",
   "metadata": {
    "colab_type": "text",
    "id": "oOQDSu-Vw5Mb"
   },
   "source": [
    "### Predict a partir das features pré calculada de uma amostra"
   ]
  },
  {
   "cell_type": "code",
   "execution_count": 0,
   "metadata": {
    "colab": {},
    "colab_type": "code",
    "id": "qWCeGck1w5Mc",
    "outputId": "659aff89-c927-4da6-a623-838b7b733eba"
   },
   "outputs": [
    {
     "data": {
      "text/plain": [
       "(tensor([[ 0.9688, -0.4059]], device='cuda:0', grad_fn=<ThAddmmBackward>),\n",
       " tensor(0))"
      ]
     },
     "execution_count": 35,
     "metadata": {
      "tags": []
     },
     "output_type": "execute_result"
    }
   ],
   "source": [
    "y = model_fast.myfc(f_train[:1].to(device))\n",
    "y, y_train[0]"
   ]
  },
  {
   "cell_type": "markdown",
   "metadata": {
    "colab_type": "text",
    "id": "q8bv-v06w5Mf"
   },
   "source": [
    "## Treinamento da camada densa utilizando as *features*: mrn_dens"
   ]
  },
  {
   "cell_type": "code",
   "execution_count": 0,
   "metadata": {
    "colab": {},
    "colab_type": "code",
    "id": "y-o2D3Dkw5Mg"
   },
   "outputs": [],
   "source": [
    "n_epochs = 10\n",
    "optm = torch.optim.Adam(params=model_fast.myfc.parameters(),lr=0.0001)\n",
    "schd = torch.optim.lr_scheduler.StepLR(optm, step_size=10, gamma=0.75)\n",
    "cb_chkpt = ptt.ModelCheckpoint('../../models/transferlearning_features_catsdogs', reset=True, verbose=1)\n",
    "\n",
    "trainer_tl = ptt.DeepNetTrainer(model         = model_fast.myfc,\n",
    "                                criterion     = nn.CrossEntropyLoss(),\n",
    "                                optimizer     = optm,\n",
    "                                lr_scheduler  = schd,\n",
    "                                callbacks     = [ptt.AccuracyMetric(), \n",
    "                                                ptt.PrintCallback(), \n",
    "                                                cb_chkpt],\n",
    "                                devname       = device)"
   ]
  },
  {
   "cell_type": "code",
   "execution_count": 0,
   "metadata": {
    "colab": {},
    "colab_type": "code",
    "id": "I83923Sfw5Mi",
    "outputId": "86cd39be-5885-4b36-9a13-5dedbce8019b"
   },
   "outputs": [
    {
     "name": "stdout",
     "output_type": "stream",
     "text": [
      "Start training for 2 epochs\n",
      "  1:   3.4s   T: 0.01102 *  0.96904 *   V: 0.00426 *  0.98750 *  \n",
      "  2:   3.4s   T: 0.00369 *  0.98913     V: 0.00303 *  0.98900    \n",
      "Stop training at epoch: 2/2\n",
      "Best model was saved at epoch 2 with loss 0.00303: ../../models/transferlearning_features_catsdogs\n"
     ]
    }
   ],
   "source": [
    "trainer_tl.fit(n_epochs   = 2,\n",
    "                   Xin= f_train, Yin= y_train,\n",
    "                   valid_data=(f_valid, y_valid))\n"
   ]
  },
  {
   "cell_type": "markdown",
   "metadata": {
    "colab_type": "text",
    "id": "ZXf7y6f6w5Mn"
   },
   "source": [
    "## Fine tunning\n",
    "É possível ainda refazer o treinamento da camada densa junto com a parte convolucional da rede *ResNet*, utilizando um *learning rate* com valor bem baixo."
   ]
  },
  {
   "cell_type": "code",
   "execution_count": 0,
   "metadata": {
    "colab": {},
    "colab_type": "code",
    "id": "dwq0lKxaw5Mo"
   },
   "outputs": [],
   "source": [
    "for param in model_fast.parameters():\n",
    "    param.requires_grad = True"
   ]
  },
  {
   "cell_type": "markdown",
   "metadata": {
    "colab_type": "text",
    "id": "48fW0jtuw5Mr"
   },
   "source": [
    "## Agora os dados de entrada são os dados originais. Criando os loaders"
   ]
  },
  {
   "cell_type": "code",
   "execution_count": 0,
   "metadata": {
    "colab": {},
    "colab_type": "code",
    "id": "GFPlSeuZw5Ms"
   },
   "outputs": [],
   "source": [
    "batch_size = 100\n",
    "dataset_train = datasets.ImageFolder(rootdir + '/train/',transform = transf_comp_train)\n",
    "loader_train = torch.utils.data.DataLoader(dataset_train, batch_size=batch_size, shuffle=True)\n",
    "loader_valid = torch.utils.data.DataLoader(dataset_valid, batch_size=batch_size, shuffle=False)"
   ]
  },
  {
   "cell_type": "markdown",
   "metadata": {
    "colab_type": "text",
    "id": "pYfBseGyw5Mv"
   },
   "source": [
    "## Preparando para treinar"
   ]
  },
  {
   "cell_type": "code",
   "execution_count": 0,
   "metadata": {
    "colab": {},
    "colab_type": "code",
    "id": "7K0DCJTGw5Mw"
   },
   "outputs": [],
   "source": [
    "optm = torch.optim.Adam(params=model_fast.parameters(),  lr=1.e-4)\n",
    "schd = torch.optim.lr_scheduler.StepLR(optm, step_size=10, gamma=0.75)\n",
    "cb_chkpt = ptt.ModelCheckpoint('../../models/transferlearning_finetunning_catsdogs', \n",
    "                               reset=True, verbose=1)\n",
    "\n",
    "trainer_finetunning = ptt.DeepNetTrainer(model         = model_fast,\n",
    "                                         criterion     = nn.CrossEntropyLoss(),\n",
    "                                         optimizer     = optm,\n",
    "                                         lr_scheduler  = schd,\n",
    "                                         callbacks     = [ptt.AccuracyMetric(), \n",
    "                                                          ptt.PrintCallback(),\n",
    "                                                          cb_chkpt],\n",
    "                                         devname       = device)"
   ]
  },
  {
   "cell_type": "code",
   "execution_count": 0,
   "metadata": {
    "colab": {},
    "colab_type": "code",
    "id": "2_5Esayuw5Mz",
    "outputId": "c01ab0d8-d3b1-4918-bdee-e171215543f9"
   },
   "outputs": [
    {
     "name": "stdout",
     "output_type": "stream",
     "text": [
      "Start training for 5 epochs\n",
      "  1: 283.8s   T: 0.00075 *  0.97339 *   V: 0.00032 *  0.99000 *  \n",
      "Batch end epoch 2 batch 36 of 230\r"
     ]
    }
   ],
   "source": [
    "trainer_finetunning.fit_loader(5, loader_train, loader_valid)\n"
   ]
  },
  {
   "cell_type": "markdown",
   "metadata": {
    "colab_type": "text",
    "id": "qdjH5YuTw5M2"
   },
   "source": [
    "Resultado do treinamento em GPU 1080:\n",
    "\n",
    "    Start training for 5 epochs\n",
    "      1:  10.2s   T: 0.10348 0.95750   V: 0.08778 0.96125 best\n",
    "      2:  10.2s   T: 0.01205 0.99800   V: 0.06722 0.97375 best\n",
    "      3:  10.2s   T: 0.00294 1.00000   V: 0.09732 0.96500 \n",
    "      4:  10.2s   T: 0.00121 1.00000   V: 0.06344 0.97625 best\n",
    "      5:  10.3s   T: 0.00077 1.00000   V: 0.06478 0.98125 \n",
    "    Stop training at epoch: 5/5\n",
    "    Best model was saved at epoch 4 with loss 0.06344: ../../models/transferlearning_finetunning_catsdogs"
   ]
  },
  {
   "cell_type": "markdown",
   "metadata": {
    "colab_type": "text",
    "id": "dAMScaHmw5M4"
   },
   "source": [
    "## Exercícios\n",
    "\n",
    "1. Veja a codificação da rede ResNet (veja o link no github) e explique a inicialização\n",
    "   da classe do modelo: `super().__init__(BasicBlock, [3, 4, 6, 3])`\n",
    "2. Observe que a camada densa (`fc`) da ResNet foi suprimida (`del self.fc`). Qual é a\n",
    "   implicação caso ela não fosse removida? Experimente.\n",
    "3. Qual é a célula deste notebook que inicializa os pesos de todas as redes?\n",
    "4. Quantos parâmetros são treinados durante o *transfer learning* da primeira etapa?"
   ]
  },
  {
   "cell_type": "markdown",
   "metadata": {
    "colab_type": "text",
    "id": "njdGlj_sw5M5"
   },
   "source": [
    "## Atividade\n",
    "\n",
    "1. Utilize a rede ResNet18 e a ResNet50 para fazer o *transfer learning*. \n",
    "   Compare os resultados."
   ]
  },
  {
   "cell_type": "markdown",
   "metadata": {
    "colab_type": "text",
    "id": "AtkcSqkcw5M5"
   },
   "source": [
    "## Aprendizados com este notebook\n"
   ]
  }
 ],
 "metadata": {
  "colab": {
   "name": "transfer_learning_catsdogs.ipynb",
   "provenance": [],
   "version": "0.3.2"
  },
  "kernelspec": {
   "display_name": "Python 3",
   "language": "python",
   "name": "python3"
  },
  "language_info": {
   "codemirror_mode": {
    "name": "ipython",
    "version": 3
   },
   "file_extension": ".py",
   "mimetype": "text/x-python",
   "name": "python",
   "nbconvert_exporter": "python",
   "pygments_lexer": "ipython3",
   "version": "3.6.5"
  }
 },
 "nbformat": 4,
 "nbformat_minor": 1
}

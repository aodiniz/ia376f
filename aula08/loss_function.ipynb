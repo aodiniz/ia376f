{
 "cells": [
  {
   "cell_type": "markdown",
   "metadata": {
    "colab_type": "text",
    "id": "xRroZgAs1N-Y"
   },
   "source": [
    "# Funções de Perda"
   ]
  },
  {
   "cell_type": "markdown",
   "metadata": {
    "colab_type": "text",
    "id": "cssnEJse1QWE"
   },
   "source": [
    "As funções de perda são responsáveis por retornar um valor numérico de comparação entre a saída do processamento de um modelo (rede neural) e a saída esperada para um determinado conjunto de entrada.\n",
    "\n",
    "Essas funções precisam seguir alguns padrões de organização para sua utilização na cadeia de processamento (treinamento), integradas ao gráfico computacional gerado dinamicamente.\n",
    "\n",
    "A biblioteca Pytorch já disponibiliza alguns tipos de função de perda, com [documentação](https://pytorch.org/docs/stable/nn.html#loss-functions) para expor os argumentos e aplicações de cada e [código-fonte](https://pytorch.org/docs/stable/_modules/torch/nn/modules/loss.html) para detalhar a implementação e facilitar a extensão.\n",
    "\n",
    "A partir do padrão destas funções pré-definidas é possível criar funções customizadas, a fim de atender problemas mais complexos e específicos.\n",
    "\n",
    "Segue abaixo uma descrição de cada uma das funções de perda disponíveis no módulo torch.nn:"
   ]
  },
  {
   "cell_type": "code",
   "execution_count": 1,
   "metadata": {},
   "outputs": [],
   "source": [
    "import os\n",
    "import pkgutil\n",
    "\n",
    "if pkgutil.find_loader('torch') is None:\n",
    "    from wheel.pep425tags import get_abbr_impl, get_impl_ver, get_abi_tag\n",
    "    platform = '{}{}-{}'.format(get_abbr_impl(), get_impl_ver(), get_abi_tag())\n",
    "\n",
    "    accelerator = 'cu80' if os.path.exists('/opt/bin/nvidia-smi') else 'cpu'\n",
    "\n",
    "    !pip install -q http://download.pytorch.org/whl/{accelerator}/torch-0.4.1-{platform}-linux_x86_64.whl"
   ]
  },
  {
   "cell_type": "code",
   "execution_count": 2,
   "metadata": {},
   "outputs": [],
   "source": [
    "import torch"
   ]
  },
  {
   "cell_type": "markdown",
   "metadata": {
    "colab_type": "text",
    "id": "vfai0qYOKye_"
   },
   "source": [
    "---\n",
    "## L1Loss\n",
    "---"
   ]
  },
  {
   "cell_type": "markdown",
   "metadata": {
    "colab_type": "text",
    "id": "aqgATGNdMrIj"
   },
   "source": [
    "Calcula o módulo da diferença entre dois vetores, elemento a elemento. Pode ser aplicada a média, a soma ou nenhuma operação de redução."
   ]
  },
  {
   "cell_type": "markdown",
   "metadata": {
    "colab_type": "text",
    "id": "ZWKcuZ1tTXkO"
   },
   "source": [
    "$$L = [l_1, l_2, ..., l_N]^T, l_n = |x_n - y_n|$$"
   ]
  },
  {
   "cell_type": "markdown",
   "metadata": {
    "colab_type": "text",
    "id": "I78bDWFxQU4L"
   },
   "source": [
    "### Argumentos"
   ]
  },
  {
   "cell_type": "markdown",
   "metadata": {
    "colab_type": "text",
    "id": "I78bDWFxQU4L"
   },
   "source": [
    "- **reduction**\n",
    " - Tipo: string\n",
    " - Demanda: opcional\n",
    " - Valor padrão: ‘elementwise_mean’\n",
    " - Valores possíveis:\n",
    "\n",
    "   ‘none’: nenhum efeito sobre a saída;\n",
    "\n",
    "   ‘sum’: o vetor de saída é somado;\n",
    "\n",
    "   ‘elementwise_mean’: a soma do vetor de saída é dividido pelo número de elementos do vetor"
   ]
  },
  {
   "cell_type": "markdown",
   "metadata": {
    "colab_type": "text",
    "id": "tpxjwHyQSu7t"
   },
   "source": [
    "### Exemplo"
   ]
  },
  {
   "cell_type": "code",
   "execution_count": 3,
   "metadata": {},
   "outputs": [],
   "source": [
    "inp = torch.randn(3, 5)\n",
    "trg = torch.randn(3, 5)"
   ]
  },
  {
   "cell_type": "code",
   "execution_count": 4,
   "metadata": {
    "colab": {},
    "colab_type": "code",
    "id": "Tg7YSJLnSxpS"
   },
   "outputs": [
    {
     "data": {
      "text/plain": [
       "tensor(1.3259)"
      ]
     },
     "execution_count": 4,
     "metadata": {},
     "output_type": "execute_result"
    }
   ],
   "source": [
    "l1_loss = torch.nn.L1Loss()\n",
    "l1_loss(inp, trg)"
   ]
  },
  {
   "cell_type": "markdown",
   "metadata": {
    "colab_type": "text",
    "id": "iY1y6n6lLweN"
   },
   "source": [
    "---\n",
    "## MSELoss\n",
    "---"
   ]
  },
  {
   "cell_type": "markdown",
   "metadata": {
    "colab_type": "text",
    "id": "SRvRgHyRTFst"
   },
   "source": [
    "Calcula o erro quadrático médio entre dois tensores, de qualquer dimensão, elemento a elemento. Pode ser aplicada a média, a soma ou nenhuma operação de redução."
   ]
  },
  {
   "cell_type": "markdown",
   "metadata": {
    "colab_type": "text",
    "id": "T3W7I1AVZNMh"
   },
   "source": [
    "$$L = [l_1, l_2, ..., l_N]^T, l_n = (x_n - y_n)^2$$"
   ]
  },
  {
   "cell_type": "markdown",
   "metadata": {
    "colab_type": "text",
    "id": "EMI60SlxZNhG"
   },
   "source": [
    "### Argumentos"
   ]
  },
  {
   "cell_type": "markdown",
   "metadata": {
    "colab_type": "text",
    "id": "EMI60SlxZNhG"
   },
   "source": [
    "- **reduction**\n",
    " - Tipo: string\n",
    " - Demanda: opcional\n",
    " - Valor padrão: ‘elementwise_mean’\n",
    " - Valores possíveis:\n",
    "\n",
    "   ‘none’: nenhum efeito sobre a saída;\n",
    "\n",
    "   ‘sum’: o vetor de saída é somado;\n",
    "\n",
    "   ‘elementwise_mean’: a soma do vetor de saída é dividido pelo número de elementos do vetor"
   ]
  },
  {
   "cell_type": "markdown",
   "metadata": {
    "colab_type": "text",
    "id": "37oFKXWOZNs5"
   },
   "source": [
    "### Exemplo"
   ]
  },
  {
   "cell_type": "code",
   "execution_count": 5,
   "metadata": {},
   "outputs": [],
   "source": [
    "inp = torch.randn(3, 5, 4)\n",
    "trg = torch.randn(3, 5, 4)"
   ]
  },
  {
   "cell_type": "code",
   "execution_count": 6,
   "metadata": {},
   "outputs": [
    {
     "data": {
      "text/plain": [
       "tensor(1.6164)"
      ]
     },
     "execution_count": 6,
     "metadata": {},
     "output_type": "execute_result"
    }
   ],
   "source": [
    "mse_loss = torch.nn.MSELoss()\n",
    "mse_loss(inp, trg)"
   ]
  },
  {
   "cell_type": "markdown",
   "metadata": {
    "colab_type": "text",
    "id": "TfwpY44rLzWW"
   },
   "source": [
    "---\n",
    "## CrossEntropyLoss\n",
    "---"
   ]
  },
  {
   "cell_type": "markdown",
   "metadata": {},
   "source": [
    "Combinação sequencial das funções **torch.nn.LogSoftmax()** e **torch.nn.NLLLoss()**, recebendo para cada classe as pontuações calculadas e, como target, o índice da classe esperada (que teria a maior pontuação)."
   ]
  },
  {
   "cell_type": "markdown",
   "metadata": {},
   "source": [
    "Se não for incluída a lista de pesos como argumento de instanciação, este é o cálculo realizado:"
   ]
  },
  {
   "cell_type": "markdown",
   "metadata": {},
   "source": [
    "$$L(x, class) = -\\log\\left(\\frac{\\exp(x[class])}{\\sum_j \\exp(x[j])}\\right)\n",
    "               = -x[class] + \\log\\left(\\sum_j \\exp(x[j])\\right)$$"
   ]
  },
  {
   "cell_type": "markdown",
   "metadata": {},
   "source": [
    "Se for incluída, o cálculo passa a ser esse:"
   ]
  },
  {
   "cell_type": "markdown",
   "metadata": {},
   "source": [
    "$$L(x, class) = weight[class] \\left(-x[class] + \\log\\left(\\sum_j \\exp(x[j])\\right)\\right)$$"
   ]
  },
  {
   "cell_type": "markdown",
   "metadata": {
    "colab_type": "text",
    "id": "I78bDWFxQU4L"
   },
   "source": [
    "### Argumentos"
   ]
  },
  {
   "cell_type": "markdown",
   "metadata": {
    "colab_type": "text",
    "id": "I78bDWFxQU4L"
   },
   "source": [
    "- **weight**\n",
    " - Tipo: Tensor\n",
    " - Demanda: opcional\n",
    " - Tamanho: Dimensão única com número de elementos igual ao número de classes"
   ]
  },
  {
   "cell_type": "markdown",
   "metadata": {
    "colab_type": "text",
    "id": "I78bDWFxQU4L"
   },
   "source": [
    "- **ignore_index**\n",
    " - Tipo: int\n",
    " - Demanda: opcional\n",
    " - Valor: índice do elemento a ser descartado no cálculo do gradiente"
   ]
  },
  {
   "cell_type": "markdown",
   "metadata": {
    "colab_type": "text",
    "id": "I78bDWFxQU4L"
   },
   "source": [
    "- **reduction**\n",
    " - Tipo: string\n",
    " - Demanda: opcional\n",
    " - Valor padrão: ‘elementwise_mean’\n",
    " - Valores possíveis:\n",
    "\n",
    "   ‘none’: nenhum efeito sobre a saída;\n",
    "\n",
    "   ‘sum’: o vetor de saída é somado;\n",
    "\n",
    "   ‘elementwise_mean’: a soma do vetor de saída é dividido pelo número de elementos do vetor"
   ]
  },
  {
   "cell_type": "markdown",
   "metadata": {},
   "source": [
    "### Exemplo"
   ]
  },
  {
   "cell_type": "code",
   "execution_count": 7,
   "metadata": {},
   "outputs": [],
   "source": [
    "inp = torch.randn(3, 5)\n",
    "trg = torch.empty(3, dtype=torch.long).random_(5)"
   ]
  },
  {
   "cell_type": "code",
   "execution_count": 8,
   "metadata": {
    "colab": {},
    "colab_type": "code",
    "id": "Tg7YSJLnSxpS"
   },
   "outputs": [
    {
     "data": {
      "text/plain": [
       "tensor(2.1989)"
      ]
     },
     "execution_count": 8,
     "metadata": {},
     "output_type": "execute_result"
    }
   ],
   "source": [
    "ce_loss = torch.nn.CrossEntropyLoss()\n",
    "ce_loss(inp, trg)"
   ]
  },
  {
   "cell_type": "markdown",
   "metadata": {
    "colab_type": "text",
    "id": "HQHm9iXxL1VX"
   },
   "source": [
    "---\n",
    "## NLLLoss\n",
    "---"
   ]
  },
  {
   "cell_type": "markdown",
   "metadata": {},
   "source": [
    "Cálculo da verossimilhança logarítmica negativa, para problemas de classificação.\n",
    "\n",
    "É esperado que as entradas sejam probabilidades logarítmicas, com dimensão dada pelo número de classes. Os rótulos devem ser os índices das classes esperadas."
   ]
  },
  {
   "cell_type": "markdown",
   "metadata": {},
   "source": [
    "$$L = [l_1, l_2, ..., l_N]^T, \\quad l_n = - w_{y_n} x_{n,y_n}, \\quad\n",
    "w_{c} = \\text{weight}[c] \\cdot \\mathbb{1}\\{c \\not= \\text{ignore_index}\\}$$"
   ]
  },
  {
   "cell_type": "markdown",
   "metadata": {
    "colab_type": "text",
    "id": "I78bDWFxQU4L"
   },
   "source": [
    "### Argumentos"
   ]
  },
  {
   "cell_type": "markdown",
   "metadata": {
    "colab_type": "text",
    "id": "I78bDWFxQU4L"
   },
   "source": [
    "- **weight**\n",
    " - Tipo: Tensor\n",
    " - Demanda: opcional\n",
    " - Tamanho: Dimensão única com número de elementos igual ao número de classes"
   ]
  },
  {
   "cell_type": "markdown",
   "metadata": {
    "colab_type": "text",
    "id": "I78bDWFxQU4L"
   },
   "source": [
    "- **ignore_index**\n",
    " - Tipo: int\n",
    " - Demanda: opcional\n",
    " - Valor: índice do elemento a ser descartado no cálculo do gradiente"
   ]
  },
  {
   "cell_type": "markdown",
   "metadata": {
    "colab_type": "text",
    "id": "I78bDWFxQU4L"
   },
   "source": [
    "- **reduction**\n",
    " - Tipo: string\n",
    " - Demanda: opcional\n",
    " - Valor padrão: ‘elementwise_mean’\n",
    " - Valores possíveis:\n",
    "\n",
    "   ‘none’: nenhum efeito sobre a saída;\n",
    "\n",
    "   ‘sum’: o vetor de saída é somado;\n",
    "\n",
    "   ‘elementwise_mean’: a soma do vetor de saída é dividido pelo número de elementos do vetor"
   ]
  },
  {
   "cell_type": "markdown",
   "metadata": {
    "colab_type": "text",
    "id": "37oFKXWOZNs5"
   },
   "source": [
    "### Exemplo"
   ]
  },
  {
   "cell_type": "code",
   "execution_count": 9,
   "metadata": {},
   "outputs": [],
   "source": [
    "inp = torch.randn(3, 5)\n",
    "trg = torch.empty(3, dtype=torch.long).random_(5)"
   ]
  },
  {
   "cell_type": "code",
   "execution_count": 10,
   "metadata": {
    "colab": {},
    "colab_type": "code",
    "id": "Tg7YSJLnSxpS"
   },
   "outputs": [
    {
     "data": {
      "text/plain": [
       "tensor(0.8225)"
      ]
     },
     "execution_count": 10,
     "metadata": {},
     "output_type": "execute_result"
    }
   ],
   "source": [
    "nll_loss = torch.nn.NLLLoss()\n",
    "nll_loss(inp, trg)"
   ]
  },
  {
   "cell_type": "markdown",
   "metadata": {
    "colab_type": "text",
    "id": "8MOYCtUvL3XE"
   },
   "source": [
    "---\n",
    "## PoissonNLLLoss\n",
    "---"
   ]
  },
  {
   "cell_type": "markdown",
   "metadata": {},
   "source": [
    "Cálculo da verossimilhança logarítmica negativa com distribuição de Poisson para o *target*."
   ]
  },
  {
   "cell_type": "markdown",
   "metadata": {},
   "source": [
    "$$target \\sim Poisson(input)$$\n",
    "\n",
    "$$l(input, target) = input - target * \\log(input) + \\log(target!)$$"
   ]
  },
  {
   "cell_type": "markdown",
   "metadata": {
    "colab_type": "text",
    "id": "EMI60SlxZNhG"
   },
   "source": [
    "### Argumentos"
   ]
  },
  {
   "cell_type": "markdown",
   "metadata": {
    "colab_type": "text",
    "id": "EMI60SlxZNhG"
   },
   "source": [
    "- **log_input**\n",
    " - Tipo: bool\n",
    " - Demanda: opcional\n",
    " - Valor padrão: True\n",
    " - Valor: Se *True*, a perda é calculada com a fórmula\n",
    "\n",
    "$$exp(input) − target ∗ input$$\n",
    "\n",
    "      Caso contrário, com a fórmula\n",
    "\n",
    "$$input − target ∗ log(input+eps)$$"
   ]
  },
  {
   "cell_type": "markdown",
   "metadata": {
    "colab_type": "text",
    "id": "EMI60SlxZNhG"
   },
   "source": [
    "- **full**\n",
    " - Tipo: bool\n",
    " - Demanda: opcional\n",
    " - Valor padrão: False\n",
    " - Valor: Adiciona o termo de aproximação Stirling ao cálculo, resultado na fórmula\n",
    "\n",
    "$$target * \\log(target) - target + 0.5 * \\log(2 * \\pi * target)$$"
   ]
  },
  {
   "cell_type": "markdown",
   "metadata": {
    "colab_type": "text",
    "id": "EMI60SlxZNhG"
   },
   "source": [
    "- **eps**\n",
    " - Tipo: float\n",
    " - Demanda: opcional\n",
    " - Valor padrão: 1e-08\n",
    " - Valor: Pequena quantidade para evitar computar $log(0)$ quando *log_input* for *False*"
   ]
  },
  {
   "cell_type": "markdown",
   "metadata": {
    "colab_type": "text",
    "id": "EMI60SlxZNhG"
   },
   "source": [
    "- **reduction**\n",
    " - Tipo: string\n",
    " - Demanda: opcional\n",
    " - Valor padrão: ‘elementwise_mean’\n",
    " - Valores possíveis:\n",
    "\n",
    "   ‘none’: nenhum efeito sobre a saída;\n",
    "\n",
    "   ‘sum’: o vetor de saída é somado;\n",
    "\n",
    "   ‘elementwise_mean’: a soma do vetor de saída é dividido pelo número de elementos do vetor"
   ]
  },
  {
   "cell_type": "markdown",
   "metadata": {
    "colab_type": "text",
    "id": "37oFKXWOZNs5"
   },
   "source": [
    "### Exemplo"
   ]
  },
  {
   "cell_type": "code",
   "execution_count": 11,
   "metadata": {},
   "outputs": [],
   "source": [
    "inp = torch.randn(3, 5)\n",
    "trg = torch.randn(3, 5)"
   ]
  },
  {
   "cell_type": "code",
   "execution_count": 12,
   "metadata": {
    "colab": {},
    "colab_type": "code",
    "id": "Tg7YSJLnSxpS"
   },
   "outputs": [
    {
     "data": {
      "text/plain": [
       "tensor(1.4339)"
      ]
     },
     "execution_count": 12,
     "metadata": {},
     "output_type": "execute_result"
    }
   ],
   "source": [
    "pnll_loss = torch.nn.PoissonNLLLoss()\n",
    "pnll_loss(inp, trg)"
   ]
  },
  {
   "cell_type": "markdown",
   "metadata": {
    "colab_type": "text",
    "id": "TjyvVx2jL5o5"
   },
   "source": [
    "---\n",
    "## KLDivLoss\n",
    "---"
   ]
  },
  {
   "cell_type": "markdown",
   "metadata": {},
   "source": [
    "Calcula a perda baseada na divergência Kullback-Leibler, que é uma medida de distância para distribuições contínuas, normalmente utilizada para realizar regressões diretas no espaço de distribuições contínuas (amostradas discretamente).\n",
    "\n",
    "É esperado que as entradas sejam probabilidades logarítmicas, sem restrição de dimensão. Os rótulos devem ser probabilidades (sem a aplicação de logarítmo)."
   ]
  },
  {
   "cell_type": "markdown",
   "metadata": {},
   "source": [
    "$$L = [l_1, l_2, ..., l_N]^T, \\quad l_n = y_n \\cdot \\left( \\log y_n - x_n \\right)$$"
   ]
  },
  {
   "cell_type": "markdown",
   "metadata": {
    "colab_type": "text",
    "id": "EMI60SlxZNhG"
   },
   "source": [
    "### Argumentos"
   ]
  },
  {
   "cell_type": "markdown",
   "metadata": {
    "colab_type": "text",
    "id": "EMI60SlxZNhG"
   },
   "source": [
    "- **reduction**\n",
    " - Tipo: string\n",
    " - Demanda: opcional\n",
    " - Valor padrão: ‘elementwise_mean’\n",
    " - Valores possíveis:\n",
    "\n",
    "   ‘none’: nenhum efeito sobre a saída;\n",
    "\n",
    "   ‘sum’: o vetor de saída é somado;\n",
    "\n",
    "   ‘elementwise_mean’: a soma do vetor de saída é dividido pelo número de elementos do vetor"
   ]
  },
  {
   "cell_type": "markdown",
   "metadata": {
    "colab_type": "text",
    "id": "37oFKXWOZNs5"
   },
   "source": [
    "### Exemplo"
   ]
  },
  {
   "cell_type": "code",
   "execution_count": 13,
   "metadata": {},
   "outputs": [],
   "source": [
    "inp = torch.randn(3, 5)\n",
    "trg = torch.randn(3, 5)"
   ]
  },
  {
   "cell_type": "code",
   "execution_count": 14,
   "metadata": {
    "colab": {},
    "colab_type": "code",
    "id": "Tg7YSJLnSxpS"
   },
   "outputs": [
    {
     "data": {
      "text/plain": [
       "tensor(-0.1115)"
      ]
     },
     "execution_count": 14,
     "metadata": {},
     "output_type": "execute_result"
    }
   ],
   "source": [
    "kld_loss = torch.nn.KLDivLoss()\n",
    "kld_loss(inp, trg)"
   ]
  },
  {
   "cell_type": "markdown",
   "metadata": {
    "colab_type": "text",
    "id": "8gzmeL7HL7s4"
   },
   "source": [
    "---\n",
    "## BCELoss\n",
    "---"
   ]
  },
  {
   "cell_type": "markdown",
   "metadata": {},
   "source": [
    "Calcula a Entropia Cruzada Binária, sendo o tensor de rótulos composto de números entre 0 e 1."
   ]
  },
  {
   "cell_type": "markdown",
   "metadata": {},
   "source": [
    "$$L = [l_1, l_2, ..., l_N]^T, \\quad l_n = - w_n \\left[ y_n \\cdot \\log x_n + (1 - y_n) \\cdot \\log (1 - x_n) \\right]$$"
   ]
  },
  {
   "cell_type": "markdown",
   "metadata": {
    "colab_type": "text",
    "id": "EMI60SlxZNhG"
   },
   "source": [
    "### Argumentos"
   ]
  },
  {
   "cell_type": "markdown",
   "metadata": {
    "colab_type": "text",
    "id": "I78bDWFxQU4L"
   },
   "source": [
    "- **weight**\n",
    " - Tipo: Tensor\n",
    " - Demanda: opcional\n",
    " - Tamanho: Dimensão única com número de elementos igual ao tamanho do batch (N)"
   ]
  },
  {
   "cell_type": "markdown",
   "metadata": {
    "colab_type": "text",
    "id": "EMI60SlxZNhG"
   },
   "source": [
    "- **reduction**\n",
    " - Tipo: string\n",
    " - Demanda: opcional\n",
    " - Valor padrão: ‘elementwise_mean’\n",
    " - Valores possíveis:\n",
    "\n",
    "   ‘none’: nenhum efeito sobre a saída;\n",
    "\n",
    "   ‘sum’: o vetor de saída é somado;\n",
    "\n",
    "   ‘elementwise_mean’: a soma do vetor de saída é dividido pelo número de elementos do vetor"
   ]
  },
  {
   "cell_type": "markdown",
   "metadata": {
    "colab_type": "text",
    "id": "37oFKXWOZNs5"
   },
   "source": [
    "### Exemplo"
   ]
  },
  {
   "cell_type": "code",
   "execution_count": 15,
   "metadata": {},
   "outputs": [],
   "source": [
    "inp = torch.empty(3).random_(2)\n",
    "trg = torch.empty(3).random_(2)"
   ]
  },
  {
   "cell_type": "code",
   "execution_count": 16,
   "metadata": {
    "colab": {},
    "colab_type": "code",
    "id": "Tg7YSJLnSxpS"
   },
   "outputs": [
    {
     "data": {
      "text/plain": [
       "tensor(9.2103)"
      ]
     },
     "execution_count": 16,
     "metadata": {},
     "output_type": "execute_result"
    }
   ],
   "source": [
    "bce_loss = torch.nn.BCELoss()\n",
    "bce_loss(inp, trg)"
   ]
  },
  {
   "cell_type": "markdown",
   "metadata": {
    "colab_type": "text",
    "id": "R2inwLhcL90a"
   },
   "source": [
    "---\n",
    "## BCEWithLogitsLoss\n",
    "---"
   ]
  },
  {
   "cell_type": "markdown",
   "metadata": {},
   "source": [
    "Combinação da função Sigmoid com a função BCELoss, sendo o tensor de rótulos composto de números entre 0 e 1."
   ]
  },
  {
   "cell_type": "markdown",
   "metadata": {},
   "source": [
    "$$L = [l_1, l_2, ..., l_N]^T, \\quad l_n = - w_n \\left[ t_n \\cdot \\log \\sigma(x_n)\n",
    "+ (1 - t_n) \\cdot \\log (1 - \\sigma(x_n)) \\right]$$"
   ]
  },
  {
   "cell_type": "markdown",
   "metadata": {},
   "source": [
    "Com o argumento **pos_weight** é possível balancear *precision* X *recall*, favorecendo este se o peso $p_n$ for maior que 1 e favorecendo aquele caso contrário."
   ]
  },
  {
   "cell_type": "markdown",
   "metadata": {},
   "source": [
    "$$L = [l_1, l_2, ..., l_N]^T, \\quad l_n = - w_n \\left[p_n \\cdot t_n \\cdot \\log \\sigma(x_n)\n",
    "+ (1 - t_n) \\cdot \\log (1 - \\sigma(x_n)) \\right]$$"
   ]
  },
  {
   "cell_type": "markdown",
   "metadata": {
    "colab_type": "text",
    "id": "EMI60SlxZNhG"
   },
   "source": [
    "### Argumentos"
   ]
  },
  {
   "cell_type": "markdown",
   "metadata": {
    "colab_type": "text",
    "id": "I78bDWFxQU4L"
   },
   "source": [
    "- **weight**\n",
    " - Tipo: Tensor\n",
    " - Demanda: opcional\n",
    " - Tamanho: Dimensão única com número de elementos igual ao tamanho do batch (N)"
   ]
  },
  {
   "cell_type": "markdown",
   "metadata": {
    "colab_type": "text",
    "id": "EMI60SlxZNhG"
   },
   "source": [
    "- **reduction**\n",
    " - Tipo: string\n",
    " - Demanda: opcional\n",
    " - Valor padrão: ‘elementwise_mean’\n",
    " - Valores possíveis:\n",
    "\n",
    "   ‘none’: nenhum efeito sobre a saída;\n",
    "\n",
    "   ‘sum’: o vetor de saída é somado;\n",
    "\n",
    "   ‘elementwise_mean’: a soma do vetor de saída é dividido pelo número de elementos do vetor"
   ]
  },
  {
   "cell_type": "markdown",
   "metadata": {
    "colab_type": "text",
    "id": "I78bDWFxQU4L"
   },
   "source": [
    "- **pos_weight**\n",
    " - Tipo: Tensor\n",
    " - Demanda: opcional\n",
    " - Tamanho: Dimensão única com número de elementos igual número de classes"
   ]
  },
  {
   "cell_type": "markdown",
   "metadata": {
    "colab_type": "text",
    "id": "ZGpjnwX7L_46"
   },
   "source": [
    "---\n",
    "## MarginRankingLoss\n",
    "---"
   ]
  },
  {
   "cell_type": "markdown",
   "metadata": {},
   "source": [
    "Calcula elemento a elemento a diferença entre os tensores 1-D *x1* e *x2*, com ajuste do sinal pelo tensor *y* (composto de valores '-1' e '1', de mesma dimensão que os outros tensores)."
   ]
  },
  {
   "cell_type": "markdown",
   "metadata": {},
   "source": [
    "$$l(x, y) = \\max(0, -y * (x1 - x2) + margin)$$"
   ]
  },
  {
   "cell_type": "markdown",
   "metadata": {
    "colab_type": "text",
    "id": "EMI60SlxZNhG"
   },
   "source": [
    "### Argumentos"
   ]
  },
  {
   "cell_type": "markdown",
   "metadata": {
    "colab_type": "text",
    "id": "EMI60SlxZNhG"
   },
   "source": [
    "- **margin**\n",
    " - Tipo: float\n",
    " - Demanda: opcional\n",
    " - Valor padrão: 0\n",
    " - Valor: Offset para cálculo da perda"
   ]
  },
  {
   "cell_type": "markdown",
   "metadata": {
    "colab_type": "text",
    "id": "EMI60SlxZNhG"
   },
   "source": [
    "- **reduction**\n",
    " - Tipo: string\n",
    " - Demanda: opcional\n",
    " - Valor padrão: ‘elementwise_mean’\n",
    " - Valores possíveis:\n",
    "\n",
    "   ‘none’: nenhum efeito sobre a saída;\n",
    "\n",
    "   ‘sum’: o vetor de saída é somado;\n",
    "\n",
    "   ‘elementwise_mean’: a soma do vetor de saída é dividido pelo número de elementos do vetor"
   ]
  },
  {
   "cell_type": "markdown",
   "metadata": {
    "colab_type": "text",
    "id": "BXAP6olRMCzI"
   },
   "source": [
    "---\n",
    "## HingeEmbeddingLoss\n",
    "---"
   ]
  },
  {
   "cell_type": "markdown",
   "metadata": {},
   "source": [
    "Calcula a similaridade/dissimilaridade entre 2 entradas, por exemplo utilizando a distância pareada L1. A fórmula é escolhida pelo valor do tensor *y* (composto de valores '-1' e '1', de mesma dimensão que a entrada)."
   ]
  },
  {
   "cell_type": "markdown",
   "metadata": {},
   "source": [
    "$$L = [l_1, l_2, ..., l_N]^T, \\quad l_n = \\begin{cases}\n",
    "    x_n,\\; \\text{if}\\; y_n = 1,\\\\\n",
    "    \\max \\{0, margin - x_n\\},\\; \\text{if}\\; y_n = -1\n",
    "\\end{cases}$$"
   ]
  },
  {
   "cell_type": "markdown",
   "metadata": {
    "colab_type": "text",
    "id": "EMI60SlxZNhG"
   },
   "source": [
    "### Argumentos"
   ]
  },
  {
   "cell_type": "markdown",
   "metadata": {
    "colab_type": "text",
    "id": "EMI60SlxZNhG"
   },
   "source": [
    "- **margin**\n",
    " - Tipo: float\n",
    " - Demanda: opcional\n",
    " - Valor padrão: 1\n",
    " - Valor: Offset para cálculo da perda"
   ]
  },
  {
   "cell_type": "markdown",
   "metadata": {
    "colab_type": "text",
    "id": "EMI60SlxZNhG"
   },
   "source": [
    "- **reduction**\n",
    " - Tipo: string\n",
    " - Demanda: opcional\n",
    " - Valor padrão: ‘elementwise_mean’\n",
    " - Valores possíveis:\n",
    "\n",
    "   ‘none’: nenhum efeito sobre a saída;\n",
    "\n",
    "   ‘sum’: o vetor de saída é somado;\n",
    "\n",
    "   ‘elementwise_mean’: a soma do vetor de saída é dividido pelo número de elementos do vetor"
   ]
  },
  {
   "cell_type": "markdown",
   "metadata": {
    "colab_type": "text",
    "id": "jpHXA3tGMFQn"
   },
   "source": [
    "---\n",
    "## MultiLabelMarginLoss\n",
    "---"
   ]
  },
  {
   "cell_type": "markdown",
   "metadata": {},
   "source": [
    "Calcula uma função de perda baseada em margem para multi-classificação de múltiplas classes, entre um tensor de entrada 2-D e um tensor de rótulos 2-D (com os índices das classes, com mesmo tamanho da entrada). Isso permite que diferentes amostras tenham um número variável de rótulos de classe."
   ]
  },
  {
   "cell_type": "markdown",
   "metadata": {},
   "source": [
    "$$l(x, y) = \\sum_{ij}\\frac{\\max(0, 1 - (x[y[j]] - x[i]))}{\\text{x.size}(0)} \\\\\n",
    "where \\; i = 0 \\; to \\; x.size(0), \\quad j = 0 \\; to \\; y.size(0), \\quad y[j] \\; \\ge \\; 0, \\quad i \\; \\neq \\; y[j]$$"
   ]
  },
  {
   "cell_type": "markdown",
   "metadata": {
    "colab_type": "text",
    "id": "EMI60SlxZNhG"
   },
   "source": [
    "### Argumentos"
   ]
  },
  {
   "cell_type": "markdown",
   "metadata": {
    "colab_type": "text",
    "id": "EMI60SlxZNhG"
   },
   "source": [
    "- **reduction**\n",
    " - Tipo: string\n",
    " - Demanda: opcional\n",
    " - Valor padrão: ‘elementwise_mean’\n",
    " - Valores possíveis:\n",
    "\n",
    "   ‘none’: nenhum efeito sobre a saída;\n",
    "\n",
    "   ‘sum’: o vetor de saída é somado;\n",
    "\n",
    "   ‘elementwise_mean’: a soma do vetor de saída é dividido pelo número de elementos do vetor"
   ]
  },
  {
   "cell_type": "markdown",
   "metadata": {
    "colab_type": "text",
    "id": "HDM-OdzjMHe4"
   },
   "source": [
    "---\n",
    "## SmoothL1Loss\n",
    "---"
   ]
  },
  {
   "cell_type": "markdown",
   "metadata": {},
   "source": [
    "Calcula uma versão suavizada da perda L1, igual a esta função se o valor absoluto da diferença entre elementos for maior ou igual a 1, ou a partir do quadrado da diferença se a mesma for menor que 1."
   ]
  },
  {
   "cell_type": "markdown",
   "metadata": {},
   "source": [
    "$$l(x, y) = \\frac{1}{n} \\sum_{i} z_{i} \\; , \\quad z_{i} =\n",
    "\\begin{cases}\n",
    "0.5 (x_i - y_i)^2, \\; \\text{if} \\; |x_i - y_i| < 1 \\\\\n",
    "|x_i - y_i| - 0.5, \\; \\text{otherwise}\n",
    "\\end{cases}$$"
   ]
  },
  {
   "cell_type": "markdown",
   "metadata": {
    "colab_type": "text",
    "id": "EMI60SlxZNhG"
   },
   "source": [
    "### Argumentos"
   ]
  },
  {
   "cell_type": "markdown",
   "metadata": {
    "colab_type": "text",
    "id": "EMI60SlxZNhG"
   },
   "source": [
    "- **reduction**\n",
    " - Tipo: string\n",
    " - Demanda: opcional\n",
    " - Valor padrão: ‘elementwise_mean’\n",
    " - Valores possíveis:\n",
    "\n",
    "   ‘none’: nenhum efeito sobre a saída;\n",
    "\n",
    "   ‘sum’: o vetor de saída é somado;\n",
    "\n",
    "   ‘elementwise_mean’: a soma do vetor de saída é dividido pelo número de elementos do vetor"
   ]
  },
  {
   "cell_type": "markdown",
   "metadata": {
    "colab_type": "text",
    "id": "93Q_ZM6RMJk5"
   },
   "source": [
    "---\n",
    "## SoftMarginLoss\n",
    "---"
   ]
  },
  {
   "cell_type": "markdown",
   "metadata": {},
   "source": [
    "Calcula a perda logística para uma classificação de 2 classes, com tensor de entrada e tensor de rótulos contendo valores '-1' e '1'."
   ]
  },
  {
   "cell_type": "markdown",
   "metadata": {},
   "source": [
    "$$l(x, y) = \\sum_i \\frac{\\log(1 + \\exp(-y[i]*x[i]))}{\\text{x.nelement}()}$$"
   ]
  },
  {
   "cell_type": "markdown",
   "metadata": {
    "colab_type": "text",
    "id": "EMI60SlxZNhG"
   },
   "source": [
    "### Argumentos"
   ]
  },
  {
   "cell_type": "markdown",
   "metadata": {
    "colab_type": "text",
    "id": "EMI60SlxZNhG"
   },
   "source": [
    "- **reduction**\n",
    " - Tipo: string\n",
    " - Demanda: opcional\n",
    " - Valor padrão: ‘elementwise_mean’\n",
    " - Valores possíveis:\n",
    "\n",
    "   ‘none’: nenhum efeito sobre a saída;\n",
    "\n",
    "   ‘sum’: o vetor de saída é somado;\n",
    "\n",
    "   ‘elementwise_mean’: a soma do vetor de saída é dividido pelo número de elementos do vetor"
   ]
  },
  {
   "cell_type": "markdown",
   "metadata": {
    "colab_type": "text",
    "id": "Qtb7MeifMMHp"
   },
   "source": [
    "---\n",
    "## MultiLabelSoftMarginLoss\n",
    "---"
   ]
  },
  {
   "cell_type": "markdown",
   "metadata": {},
   "source": [
    "Calcula uma perda baseada na Entropia Máxima de um problema multi-rótulo de um contra todos."
   ]
  },
  {
   "cell_type": "markdown",
   "metadata": {},
   "source": [
    "$$l(x, y) = - \\sum_i y[i] * \\log((1 + \\exp(-x[i]))^{-1})\n",
    "                 + (1-y[i]) * \\log\\left(\\frac{\\exp(-x[i])}{(1 + \\exp(-x[i]))}\\right) \\\\\n",
    "where \\; i = 0 \\; to \\; x.nElement()-1, \\quad y[i] \\; in \\; \\{0,1\\}$$"
   ]
  },
  {
   "cell_type": "markdown",
   "metadata": {
    "colab_type": "text",
    "id": "EMI60SlxZNhG"
   },
   "source": [
    "### Argumentos"
   ]
  },
  {
   "cell_type": "markdown",
   "metadata": {
    "colab_type": "text",
    "id": "I78bDWFxQU4L"
   },
   "source": [
    "- **weight**\n",
    " - Tipo: Tensor\n",
    " - Demanda: opcional\n",
    " - Tamanho: Dimensão única com número de elementos igual ao número de classes"
   ]
  },
  {
   "cell_type": "markdown",
   "metadata": {
    "colab_type": "text",
    "id": "EMI60SlxZNhG"
   },
   "source": [
    "- **reduction**\n",
    " - Tipo: string\n",
    " - Demanda: opcional\n",
    " - Valor padrão: ‘elementwise_mean’\n",
    " - Valores possíveis:\n",
    "\n",
    "   ‘none’: nenhum efeito sobre a saída;\n",
    "\n",
    "   ‘sum’: o vetor de saída é somado;\n",
    "\n",
    "   ‘elementwise_mean’: a soma do vetor de saída é dividido pelo número de elementos do vetor"
   ]
  },
  {
   "cell_type": "markdown",
   "metadata": {
    "colab_type": "text",
    "id": "PiMMW1uxMObP"
   },
   "source": [
    "---\n",
    "## CosineEmbeddingLoss\n",
    "---"
   ]
  },
  {
   "cell_type": "markdown",
   "metadata": {},
   "source": [
    "Calcula a similaridade/dissimilaridade entre 2 tensores de entrada baseado na distância cossenoidal. A fórmula é escolhida pelo valor do tensor *y* (composto de valores '-1' e '1', de mesma dimensão que a entrada)."
   ]
  },
  {
   "cell_type": "markdown",
   "metadata": {},
   "source": [
    "$$l(x, y) = \\begin{cases}\n",
    "    1 - \\cos(x_1, x_2), \\quad \\text{if} \\; y == 1 \\\\\n",
    "    \\max(0, \\cos(x_1, x_2) - \\text{margin}), \\quad \\text{if} \\; y == -1\n",
    "\\end{cases}$$"
   ]
  },
  {
   "cell_type": "markdown",
   "metadata": {
    "colab_type": "text",
    "id": "EMI60SlxZNhG"
   },
   "source": [
    "### Argumentos"
   ]
  },
  {
   "cell_type": "markdown",
   "metadata": {
    "colab_type": "text",
    "id": "EMI60SlxZNhG"
   },
   "source": [
    "- **margin**\n",
    " - Tipo: float\n",
    " - Demanda: opcional\n",
    " - Valor padrão: 0\n",
    " - Valor: Offset entre -1 e 1, sendo sugerido entre 0 e 0,5"
   ]
  },
  {
   "cell_type": "markdown",
   "metadata": {
    "colab_type": "text",
    "id": "EMI60SlxZNhG"
   },
   "source": [
    "- **reduction**\n",
    " - Tipo: string\n",
    " - Demanda: opcional\n",
    " - Valor padrão: ‘elementwise_mean’\n",
    " - Valores possíveis:\n",
    "\n",
    "   ‘none’: nenhum efeito sobre a saída;\n",
    "\n",
    "   ‘sum’: o vetor de saída é somado;\n",
    "\n",
    "   ‘elementwise_mean’: a soma do vetor de saída é dividido pelo número de elementos do vetor"
   ]
  },
  {
   "cell_type": "markdown",
   "metadata": {
    "colab_type": "text",
    "id": "pLs0ba7oMQde"
   },
   "source": [
    "---\n",
    "## MultiMarginLoss\n",
    "---"
   ]
  },
  {
   "cell_type": "markdown",
   "metadata": {},
   "source": [
    "Calcula uma função de perda baseada em margem para múltiplas classes, entre um tensor de entrada 2-D e um tensor de rótulos 1-D (com os índices das classes, de tamanho entre 0 e x.size(1))."
   ]
  },
  {
   "cell_type": "markdown",
   "metadata": {},
   "source": [
    "$$l(x, y) = \\frac{\\sum_i \\max(0, (margin - x[y] + x[i])^p)}{\\text{x.size}(0)} \\\\\n",
    "where \\; i = 0 \\; to \\; x.size(0), \\quad i \\; \\neq \\; y$$"
   ]
  },
  {
   "cell_type": "markdown",
   "metadata": {},
   "source": [
    "Se for passado o argumento **weight**, o cálculo é alterado para"
   ]
  },
  {
   "cell_type": "markdown",
   "metadata": {},
   "source": [
    "$$l(x, y) = \\frac{\\sum_i \\max(0, w[y] * (margin - x[y] + x[i])^p)}{\\text{x.size}(0)} \\\\\n",
    "where \\; i = 0 \\; to \\; x.size(0), \\quad i \\; \\neq \\; y$$"
   ]
  },
  {
   "cell_type": "markdown",
   "metadata": {
    "colab_type": "text",
    "id": "EMI60SlxZNhG"
   },
   "source": [
    "### Argumentos"
   ]
  },
  {
   "cell_type": "markdown",
   "metadata": {
    "colab_type": "text",
    "id": "EMI60SlxZNhG"
   },
   "source": [
    "- **p**\n",
    " - Tipo: int\n",
    " - Demanda: opcional\n",
    " - Valor padrão: 1\n",
    " - Valor: Apenas os valores 1 e 2 são suportados"
   ]
  },
  {
   "cell_type": "markdown",
   "metadata": {
    "colab_type": "text",
    "id": "EMI60SlxZNhG"
   },
   "source": [
    "- **margin**\n",
    " - Tipo: float\n",
    " - Demanda: opcional\n",
    " - Valor padrão: 1\n",
    " - Valor: Offset para cálculo da perda"
   ]
  },
  {
   "cell_type": "markdown",
   "metadata": {
    "colab_type": "text",
    "id": "I78bDWFxQU4L"
   },
   "source": [
    "- **weight**\n",
    " - Tipo: Tensor\n",
    " - Demanda: opcional\n",
    " - Tamanho: Dimensão única com número de elementos igual ao número de classes"
   ]
  },
  {
   "cell_type": "markdown",
   "metadata": {
    "colab_type": "text",
    "id": "EMI60SlxZNhG"
   },
   "source": [
    "- **reduction**\n",
    " - Tipo: string\n",
    " - Demanda: opcional\n",
    " - Valor padrão: ‘elementwise_mean’\n",
    " - Valores possíveis:\n",
    "\n",
    "   ‘none’: nenhum efeito sobre a saída;\n",
    "\n",
    "   ‘sum’: o vetor de saída é somado;\n",
    "\n",
    "   ‘elementwise_mean’: a soma do vetor de saída é dividido pelo número de elementos do vetor"
   ]
  },
  {
   "cell_type": "markdown",
   "metadata": {
    "colab_type": "text",
    "id": "9sxkZyg6MSbg"
   },
   "source": [
    "---\n",
    "## TripletMarginLoss\n",
    "---"
   ]
  },
  {
   "cell_type": "markdown",
   "metadata": {},
   "source": [
    "Calcula uma medida de similaridade relativa entre amostras de 3 tensores de entrada. O trio para o cálculo são os valores âncora, exemplos positivos e exemplos negativos (*a*, *p* e *n*, respectivamente)."
   ]
  },
  {
   "cell_type": "markdown",
   "metadata": {},
   "source": [
    "$$l(a, p, n) = \\max \\{d(a_i, p_i) - d(a_i, n_i) + {\\rm margin}, 0\\} \\\\\n",
    "where \\; d(x_i, y_i) = \\left\\lVert {\\bf x}_i - {\\bf y}_i \\right\\rVert_p$$"
   ]
  },
  {
   "cell_type": "markdown",
   "metadata": {
    "colab_type": "text",
    "id": "EMI60SlxZNhG"
   },
   "source": [
    "### Argumentos"
   ]
  },
  {
   "cell_type": "markdown",
   "metadata": {
    "colab_type": "text",
    "id": "EMI60SlxZNhG"
   },
   "source": [
    "- **margin**\n",
    " - Tipo: float\n",
    " - Demanda: opcional\n",
    " - Valor padrão: 1\n",
    " - Valor: Offset para cálculo da perda, maior que 0"
   ]
  },
  {
   "cell_type": "markdown",
   "metadata": {
    "colab_type": "text",
    "id": "EMI60SlxZNhG"
   },
   "source": [
    "- **p**\n",
    " - Tipo: int\n",
    " - Demanda: opcional\n",
    " - Valor padrão: 2\n",
    " - Valor: O grau da norma para a distância entre pares"
   ]
  },
  {
   "cell_type": "markdown",
   "metadata": {
    "colab_type": "text",
    "id": "I78bDWFxQU4L"
   },
   "source": [
    "- **swap**\n",
    " - Tipo: float\n",
    " - Demanda: opcional\n",
    " - Valor padrão: False\n",
    " - Valor: Explicado no paper [*Learning local feature descriptors with triplets and shallow convolutional neural networks*](http://www.bmva.org/bmvc/2016/papers/paper119/paper119.pdf) por V. Balntas et al."
   ]
  },
  {
   "cell_type": "markdown",
   "metadata": {
    "colab_type": "text",
    "id": "EMI60SlxZNhG"
   },
   "source": [
    "- **reduction**\n",
    " - Tipo: string\n",
    " - Demanda: opcional\n",
    " - Valor padrão: ‘elementwise_mean’\n",
    " - Valores possíveis:\n",
    "\n",
    "   ‘none’: nenhum efeito sobre a saída;\n",
    "\n",
    "   ‘sum’: o vetor de saída é somado;\n",
    "\n",
    "   ‘elementwise_mean’: a soma do vetor de saída é dividido pelo número de elementos do vetor"
   ]
  }
 ],
 "metadata": {
  "colab": {
   "name": "loss_function.ipynb",
   "provenance": [],
   "version": "0.3.2"
  },
  "kernelspec": {
   "display_name": "Python 3",
   "language": "python",
   "name": "python3"
  },
  "language_info": {
   "codemirror_mode": {
    "name": "ipython",
    "version": 3
   },
   "file_extension": ".py",
   "mimetype": "text/x-python",
   "name": "python",
   "nbconvert_exporter": "python",
   "pygments_lexer": "ipython3",
   "version": "3.6.5"
  }
 },
 "nbformat": 4,
 "nbformat_minor": 1
}

{
 "cells": [
  {
   "cell_type": "markdown",
   "metadata": {
    "colab_type": "text",
    "id": "1aXVR29SPZqw"
   },
   "source": [
    "# Rede com contração e expansão - MNIST"
   ]
  },
  {
   "cell_type": "markdown",
   "metadata": {
    "colab_type": "text",
    "id": "Y_EzemfhPZq3"
   },
   "source": [
    "## Importando módulos"
   ]
  },
  {
   "cell_type": "code",
   "execution_count": 1,
   "metadata": {},
   "outputs": [],
   "source": [
    "import os\n",
    "import pkgutil\n",
    "\n",
    "if pkgutil.find_loader('torch') is None:\n",
    "    from wheel.pep425tags import get_abbr_impl, get_impl_ver, get_abi_tag\n",
    "    platform = '{}{}-{}'.format(get_abbr_impl(), get_impl_ver(), get_abi_tag())\n",
    "\n",
    "    accelerator = 'cu80' if os.path.exists('/opt/bin/nvidia-smi') else 'cpu'\n",
    "\n",
    "    !pip install -q http://download.pytorch.org/whl/{accelerator}/torch-0.4.1-{platform}-linux_x86_64.whl torchvision"
   ]
  },
  {
   "cell_type": "code",
   "execution_count": 2,
   "metadata": {
    "colab": {},
    "colab_type": "code",
    "id": "ro9yOJtrPZq5"
   },
   "outputs": [],
   "source": [
    "%matplotlib inline\n",
    "\n",
    "import time\n",
    "import numpy as np\n",
    "import matplotlib.pyplot as plt\n",
    "from collections import OrderedDict\n",
    "\n",
    "import torch\n",
    "import torchvision\n",
    "from torchvision.datasets import MNIST"
   ]
  },
  {
   "cell_type": "code",
   "execution_count": 3,
   "metadata": {
    "colab": {},
    "colab_type": "code",
    "id": "KPnklmAgPZq-",
    "outputId": "f92b89fc-6717-44e4-bca4-4009bd4b3e13"
   },
   "outputs": [
    {
     "name": "stdout",
     "output_type": "stream",
     "text": [
      "Device: cuda\n"
     ]
    }
   ],
   "source": [
    "if torch.cuda.is_available():\n",
    "    device = torch.device('cuda')\n",
    "else:\n",
    "    device = torch.device('cpu')\n",
    "\n",
    "print(\"Device:\", device)"
   ]
  },
  {
   "cell_type": "markdown",
   "metadata": {
    "colab_type": "text",
    "id": "MPTaqCRtPZrF"
   },
   "source": [
    "## Dataset"
   ]
  },
  {
   "cell_type": "code",
   "execution_count": 4,
   "metadata": {},
   "outputs": [],
   "source": [
    "dataset_dir = '../data/MNIST/processed/'"
   ]
  },
  {
   "cell_type": "code",
   "execution_count": 5,
   "metadata": {
    "colab": {},
    "colab_type": "code",
    "id": "QY807Oc2PZrG",
    "outputId": "45287256-0d9a-4258-c185-7f9855931d65"
   },
   "outputs": [],
   "source": [
    "class CustomMNIST(torch.utils.data.Dataset):\n",
    "    def __init__(self, processed_data_dir, length, mat_size=160, num_cells=10, debug=False):\n",
    "        num_attempts = 15\n",
    "        cell_size = mat_size/num_cells\n",
    "        cell_central_pixel = np.arange(cell_size/2, mat_size, cell_size)\n",
    "        cell_pixel_between = (cell_central_pixel[:-1] + cell_central_pixel[1:]) // 2\n",
    "\n",
    "        test_data, test_label = torch.load(os.path.join(processed_data_dir, 'test.pt'))\n",
    "        train_data, train_label = torch.load(os.path.join(processed_data_dir, 'training.pt'))\n",
    "\n",
    "        joint_data = torch.cat((train_data, test_data), dim=0).type(torch.FloatTensor) / 255.0\n",
    "        joint_label = torch.cat((train_label, test_label), dim=0)\n",
    "\n",
    "        data_idx_array = np.arange(joint_data.shape[0])\n",
    "\n",
    "        self.mat_image = torch.zeros((length, 1, mat_size, mat_size), dtype=torch.float)\n",
    "        self.mat_label_reg = torch.zeros((length, 2, num_cells, num_cells), dtype=torch.float)\n",
    "        self.mat_label_cls = torch.zeros((length, 2, num_cells, num_cells), dtype=torch.long)\n",
    "        self.mat_label_cls[:, 0] = -1\n",
    "\n",
    "        for sample_idx in range(length):\n",
    "            np.random.shuffle(data_idx_array)\n",
    "            num_digits = np.random.randint(7, 10)\n",
    "            digit_idx_array = data_idx_array[:num_digits]\n",
    "\n",
    "            frame_list = list()\n",
    "\n",
    "            for digit_idx in digit_idx_array:\n",
    "                digit_attempt = 0\n",
    "\n",
    "                while digit_attempt != num_attempts:\n",
    "                    x1, y1 = np.random.randint(0, mat_size-28, size=2)\n",
    "                    x2, y2 = x1+28, y1+28\n",
    "\n",
    "                    frame_idx = 0\n",
    "                    while frame_idx != len(frame_list):\n",
    "                        frame_entry = frame_list[frame_idx]\n",
    "\n",
    "                        x1_between = (x1 >= frame_entry[0]) and (x1 < frame_entry[2])\n",
    "                        x2_between = (x2 >= frame_entry[0]) and (x2 < frame_entry[2])\n",
    "                        x_between = x1_between or x2_between\n",
    "\n",
    "                        y1_between = (y1 >= frame_entry[1]) and (y1 < frame_entry[3])\n",
    "                        y2_between = (y2 >= frame_entry[1]) and (y2 < frame_entry[3])\n",
    "                        y_between = y1_between or y2_between\n",
    "\n",
    "                        if x_between and y_between:\n",
    "                            break\n",
    "                        else:\n",
    "                            frame_idx += 1\n",
    "\n",
    "                    if frame_idx == len(frame_list):\n",
    "                        frame_list.append([x1, y1, x2, y2])\n",
    "                        break\n",
    "                    else:\n",
    "                        digit_attempt += 1\n",
    "\n",
    "                if digit_attempt != num_attempts:\n",
    "                    frame = frame_list[-1]\n",
    "                    self.mat_image[sample_idx, 0, frame[1]:frame[3], frame[0]:frame[2]] = joint_data[digit_idx]\n",
    "\n",
    "                    # Compute distance of digit centroid to each cell interface to pick the right cell and tx/ty\n",
    "                    x_centroid = frame[0] + 14\n",
    "                    y_centroid = frame[1] + 14\n",
    "\n",
    "                    x_centroid_diff = cell_pixel_between - x_centroid\n",
    "                    y_centroid_diff = cell_pixel_between - y_centroid\n",
    "\n",
    "                    x_closest_pixel = np.argmin(np.abs(x_centroid_diff))\n",
    "                    y_closest_pixel = np.argmin(np.abs(y_centroid_diff))\n",
    "\n",
    "                    x_central_pixel_idx = x_closest_pixel if x_centroid_diff[x_closest_pixel] >= 0 else x_closest_pixel + 1\n",
    "                    y_central_pixel_idx = y_closest_pixel if y_centroid_diff[y_closest_pixel] >= 0 else y_closest_pixel + 1\n",
    "\n",
    "                    x_central_pixel = cell_central_pixel[x_central_pixel_idx]\n",
    "                    y_central_pixel = cell_central_pixel[y_central_pixel_idx]\n",
    "\n",
    "                    tx = cell_pixel_between[x_closest_pixel] - x_centroid_diff[x_closest_pixel] - x_central_pixel\n",
    "                    ty = cell_pixel_between[y_closest_pixel] - y_centroid_diff[y_closest_pixel] - y_central_pixel\n",
    "\n",
    "                    self.mat_label_reg[sample_idx, 0, y_central_pixel_idx, x_central_pixel_idx] = tx\n",
    "                    self.mat_label_reg[sample_idx, 1, y_central_pixel_idx, x_central_pixel_idx] = ty\n",
    "                    self.mat_label_cls[sample_idx, 0, y_central_pixel_idx, x_central_pixel_idx] = joint_label[digit_idx]\n",
    "                    self.mat_label_cls[sample_idx, 1, y_central_pixel_idx, x_central_pixel_idx] = 1\n",
    "\n",
    "                    if debug:\n",
    "                        print(f'Digit {joint_label[digit_idx]}: coord {frame}')\n",
    "\n",
    "        if not debug:\n",
    "            self.mat_label_reg /= (cell_size / 2)\n",
    "\n",
    "    def __len__(self):\n",
    "        return len(self.mat_label_cls)\n",
    "\n",
    "    def __getitem__(self, index):\n",
    "        return self.mat_image[index], self.mat_label_reg[index], self.mat_label_cls[index]"
   ]
  },
  {
   "cell_type": "markdown",
   "metadata": {},
   "source": [
    "### Visualização de exemplo"
   ]
  },
  {
   "cell_type": "code",
   "execution_count": 6,
   "metadata": {},
   "outputs": [],
   "source": [
    "def vizSample(dataset, idx):\n",
    "    image, label_reg, label_cls = dataset[idx]\n",
    "\n",
    "    plt.imshow(image[0].numpy())\n",
    "    plt.show()\n",
    "\n",
    "    print(f'tx:\\n{label_reg[0]}\\n')\n",
    "    print(f'ty:\\n{label_reg[1]}\\n')\n",
    "    print(f'class:\\n{label_cls[0]}\\n')\n",
    "    print(f'presence:\\n{label_cls[1]}\\n')"
   ]
  },
  {
   "cell_type": "code",
   "execution_count": 7,
   "metadata": {},
   "outputs": [
    {
     "name": "stdout",
     "output_type": "stream",
     "text": [
      "Digit 2: coord [91, 85, 119, 113]\n",
      "Digit 4: coord [53, 118, 81, 146]\n",
      "Digit 5: coord [15, 33, 43, 61]\n",
      "Digit 1: coord [130, 68, 158, 96]\n",
      "Digit 1: coord [53, 35, 81, 63]\n",
      "Digit 3: coord [126, 16, 154, 44]\n",
      "Digit 0: coord [9, 91, 37, 119]\n",
      "Digit 8: coord [18, 0, 46, 28]\n"
     ]
    }
   ],
   "source": [
    "mnist_dataset = CustomMNIST(dataset_dir, 1, debug=True)"
   ]
  },
  {
   "cell_type": "code",
   "execution_count": 8,
   "metadata": {},
   "outputs": [
    {
     "data": {
      "image/png": "[encoded data removed]",
      "text/plain": [
       "<Figure size 432x288 with 1 Axes>"
      ]
     },
     "metadata": {},
     "output_type": "display_data"
    },
    {
     "name": "stdout",
     "output_type": "stream",
     "text": [
      "tx:\n",
      "tensor([[ 0.,  8.,  0.,  0.,  0.,  0.,  0.,  0.,  0.,  0.],\n",
      "        [ 0.,  0.,  0.,  0.,  0.,  0.,  0.,  0.,  4.,  0.],\n",
      "        [ 0.,  5.,  0.,  0.,  0.,  0.,  0.,  0.,  0.,  0.],\n",
      "        [ 0.,  0.,  0.,  0., -5.,  0.,  0.,  0.,  0.,  0.],\n",
      "        [ 0.,  0.,  0.,  0.,  0.,  0.,  0.,  0.,  0.,  0.],\n",
      "        [ 0.,  0.,  0.,  0.,  0.,  0.,  0.,  0.,  8.,  0.],\n",
      "        [ 0., -1.,  0.,  0.,  0.,  0.,  1.,  0.,  0.,  0.],\n",
      "        [ 0.,  0.,  0.,  0.,  0.,  0.,  0.,  0.,  0.,  0.],\n",
      "        [ 0.,  0.,  0.,  0., -5.,  0.,  0.,  0.,  0.,  0.],\n",
      "        [ 0.,  0.,  0.,  0.,  0.,  0.,  0.,  0.,  0.,  0.]])\n",
      "\n",
      "ty:\n",
      "tensor([[ 0.,  6.,  0.,  0.,  0.,  0.,  0.,  0.,  0.,  0.],\n",
      "        [ 0.,  0.,  0.,  0.,  0.,  0.,  0.,  0.,  6.,  0.],\n",
      "        [ 0.,  7.,  0.,  0.,  0.,  0.,  0.,  0.,  0.,  0.],\n",
      "        [ 0.,  0.,  0.,  0., -7.,  0.,  0.,  0.,  0.,  0.],\n",
      "        [ 0.,  0.,  0.,  0.,  0.,  0.,  0.,  0.,  0.,  0.],\n",
      "        [ 0.,  0.,  0.,  0.,  0.,  0.,  0.,  0., -6.,  0.],\n",
      "        [ 0.,  1.,  0.,  0.,  0.,  0., -5.,  0.,  0.,  0.],\n",
      "        [ 0.,  0.,  0.,  0.,  0.,  0.,  0.,  0.,  0.,  0.],\n",
      "        [ 0.,  0.,  0.,  0., -4.,  0.,  0.,  0.,  0.,  0.],\n",
      "        [ 0.,  0.,  0.,  0.,  0.,  0.,  0.,  0.,  0.,  0.]])\n",
      "\n",
      "class:\n",
      "tensor([[-1,  8, -1, -1, -1, -1, -1, -1, -1, -1],\n",
      "        [-1, -1, -1, -1, -1, -1, -1, -1,  3, -1],\n",
      "        [-1,  5, -1, -1, -1, -1, -1, -1, -1, -1],\n",
      "        [-1, -1, -1, -1,  1, -1, -1, -1, -1, -1],\n",
      "        [-1, -1, -1, -1, -1, -1, -1, -1, -1, -1],\n",
      "        [-1, -1, -1, -1, -1, -1, -1, -1,  1, -1],\n",
      "        [-1,  0, -1, -1, -1, -1,  2, -1, -1, -1],\n",
      "        [-1, -1, -1, -1, -1, -1, -1, -1, -1, -1],\n",
      "        [-1, -1, -1, -1,  4, -1, -1, -1, -1, -1],\n",
      "        [-1, -1, -1, -1, -1, -1, -1, -1, -1, -1]])\n",
      "\n",
      "presence:\n",
      "tensor([[0, 1, 0, 0, 0, 0, 0, 0, 0, 0],\n",
      "        [0, 0, 0, 0, 0, 0, 0, 0, 1, 0],\n",
      "        [0, 1, 0, 0, 0, 0, 0, 0, 0, 0],\n",
      "        [0, 0, 0, 0, 1, 0, 0, 0, 0, 0],\n",
      "        [0, 0, 0, 0, 0, 0, 0, 0, 0, 0],\n",
      "        [0, 0, 0, 0, 0, 0, 0, 0, 1, 0],\n",
      "        [0, 1, 0, 0, 0, 0, 1, 0, 0, 0],\n",
      "        [0, 0, 0, 0, 0, 0, 0, 0, 0, 0],\n",
      "        [0, 0, 0, 0, 1, 0, 0, 0, 0, 0],\n",
      "        [0, 0, 0, 0, 0, 0, 0, 0, 0, 0]])\n",
      "\n"
     ]
    }
   ],
   "source": [
    "vizSample(mnist_dataset, 0)"
   ]
  },
  {
   "cell_type": "markdown",
   "metadata": {},
   "source": [
    "### Criação dos datasets de Treinamento, Validação e Teste"
   ]
  },
  {
   "cell_type": "code",
   "execution_count": 9,
   "metadata": {},
   "outputs": [],
   "source": [
    "num_samples_train = 2000\n",
    "num_samples_valid = 500\n",
    "num_samples_test = 200\n",
    "\n",
    "dataset_train = CustomMNIST(dataset_dir, num_samples_train)\n",
    "dataset_valid = CustomMNIST(dataset_dir, num_samples_valid)\n",
    "dataset_test = CustomMNIST(dataset_dir, num_samples_test)"
   ]
  },
  {
   "cell_type": "markdown",
   "metadata": {},
   "source": [
    "## Dataloaders"
   ]
  },
  {
   "cell_type": "code",
   "execution_count": 10,
   "metadata": {},
   "outputs": [],
   "source": [
    "batch_size = 64\n",
    "\n",
    "dataloaders = {\n",
    "    'train': torch.utils.data.DataLoader(dataset_train, batch_size=batch_size, shuffle=True, num_workers=0),\n",
    "    'valid': torch.utils.data.DataLoader(dataset_valid, batch_size=batch_size, shuffle=False, num_workers=0)\n",
    "}"
   ]
  },
  {
   "cell_type": "markdown",
   "metadata": {},
   "source": [
    "## Modelo de Rede Neural"
   ]
  },
  {
   "cell_type": "code",
   "execution_count": 11,
   "metadata": {
    "colab": {},
    "colab_type": "code",
    "id": "P8LW2aKoPZrr"
   },
   "outputs": [],
   "source": [
    "class CustomModel(torch.nn.Module):\n",
    "    def __init__(self):\n",
    "        super(CustomModel, self).__init__()\n",
    "\n",
    "        self.conv = torch.nn.Sequential(                                                 #   1 x 160 x 160\n",
    "            torch.nn.Conv2d(in_channels=1, out_channels=32, kernel_size=3, padding=1),   #  32 x 160 x 160\n",
    "            torch.nn.LeakyReLU(),\n",
    "            torch.nn.Conv2d(in_channels=32, out_channels=30, kernel_size=3, padding=1),  #  30 x 160 x 160\n",
    "            torch.nn.LeakyReLU(),\n",
    "            torch.nn.MaxPool2d(kernel_size=2),                                           #  30 x  80 x  80\n",
    "            torch.nn.Conv2d(in_channels=30, out_channels=28, kernel_size=3, padding=1),  #  28 x  80 x  80\n",
    "            torch.nn.LeakyReLU(),\n",
    "            torch.nn.Conv2d(in_channels=28, out_channels=26, kernel_size=3, padding=1),  #  26 x  80 x  80\n",
    "            torch.nn.LeakyReLU(),\n",
    "            torch.nn.Conv2d(in_channels=26, out_channels=24, kernel_size=3, padding=1),  #  24 x  80 x  80\n",
    "            torch.nn.LeakyReLU(),\n",
    "            torch.nn.MaxPool2d(kernel_size=2),                                           #  24 x  40 x  40\n",
    "            torch.nn.Conv2d(in_channels=24, out_channels=22, kernel_size=3, padding=1),  #  22 x  40 x  40\n",
    "            torch.nn.LeakyReLU(),\n",
    "            torch.nn.Conv2d(in_channels=22, out_channels=20, kernel_size=3, padding=1),  #  20 x  40 x  40\n",
    "            torch.nn.LeakyReLU(),\n",
    "            torch.nn.MaxPool2d(kernel_size=2),                                           #  20 x  20 x  20\n",
    "            torch.nn.Conv2d(in_channels=20, out_channels=18, kernel_size=3, padding=1),  #  18 x  20 x  20\n",
    "            torch.nn.LeakyReLU(),\n",
    "            torch.nn.Conv2d(in_channels=18, out_channels=16, kernel_size=3, padding=1),  #  16 x  20 x  20\n",
    "            torch.nn.LeakyReLU(),\n",
    "            torch.nn.MaxPool2d(kernel_size=2),                                           #  16 x  10 x  10\n",
    "            torch.nn.Conv2d(in_channels=16, out_channels=14, kernel_size=3, padding=1),  #  14 x  10 x  10\n",
    "        )\n",
    "\n",
    "    def forward(self, x):\n",
    "        x = self.conv(x)\n",
    "\n",
    "        return x"
   ]
  },
  {
   "cell_type": "markdown",
   "metadata": {},
   "source": [
    "## Função de perda customizada"
   ]
  },
  {
   "cell_type": "code",
   "execution_count": 12,
   "metadata": {},
   "outputs": [],
   "source": [
    "class CustomLoss(torch.nn.Module):\n",
    "    def __init__(self):\n",
    "        super().__init__()\n",
    "        presence_weights = torch.tensor([0.1, 1]).to(device)\n",
    "        self.cel_presence = torch.nn.CrossEntropyLoss(weight=presence_weights)\n",
    "        self.cel_class = torch.nn.CrossEntropyLoss(ignore_index=-1)\n",
    "\n",
    "    def customMSELoss(self, predict, target, mask):\n",
    "        num_elem = torch.sum(mask, (3, 2, 1))\n",
    "        mse_loss_calc_1 = (predict - target) ** 2\n",
    "        mse_loss_calc_2 = torch.sum(mse_loss_calc_1 * mask, (3, 2, 1)) / num_elem\n",
    "        return torch.sum(mse_loss_calc_2) / len(mse_loss_calc_2)\n",
    "\n",
    "    def forward(self, predict, target_reg, target_cls):\n",
    "        # predict: M, 14, 10, 10\n",
    "        loss_presence = self.cel_presence(predict[:, 12:], target_cls[:, 1])\n",
    "        loss_class = self.cel_class(predict[:, 2:12], target_cls[:, 0])\n",
    "        loss_t = self.customMSELoss(predict[:, :2], target_reg, target_cls[:, 1:].type(torch.float))\n",
    "\n",
    "        return loss_presence + loss_class + loss_t"
   ]
  },
  {
   "cell_type": "markdown",
   "metadata": {
    "colab_type": "text",
    "id": "YXrXmomnPZry"
   },
   "source": [
    "## Teste das etapas (dataloader, modelo e função de perda)"
   ]
  },
  {
   "cell_type": "code",
   "execution_count": 13,
   "metadata": {},
   "outputs": [
    {
     "name": "stdout",
     "output_type": "stream",
     "text": [
      "Entrada\n",
      "    Formato: torch.Size([64, 1, 160, 160])\n",
      "    Tipo: torch.float32\n",
      "    Faixa de valores: [0.0, 1.0]\n",
      "\n",
      "Label\n",
      "    tx\n",
      "        Formato: torch.Size([64, 2, 10, 10])\n",
      "        Tipo: torch.float32\n",
      "        Faixa de valores: [-0.875, 1.0]\n",
      "    ty\n",
      "        Formato: torch.Size([64, 2, 10, 10])\n",
      "        Tipo: torch.float32\n",
      "        Faixa de valores: [-0.875, 1.0]\n",
      "    class\n",
      "        Formato: torch.Size([64, 2, 10, 10])\n",
      "        Tipo: torch.int64\n",
      "        Faixa de valores: [-1, 9]\n",
      "    presence\n",
      "        Formato: torch.Size([64, 2, 10, 10])\n",
      "        Tipo: torch.int64\n",
      "        Faixa de valores: [0, 1]\n"
     ]
    }
   ],
   "source": [
    "label_entries = ['tx', 'ty', 'class', 'presence']\n",
    "\n",
    "dataiter = iter(dataloaders['train'])\n",
    "sample_images, sample_labels_reg, sample_labels_cls = dataiter.next()\n",
    "\n",
    "print(f'Entrada')\n",
    "print(f'    Formato: {sample_images.shape}')\n",
    "print(f'    Tipo: {sample_images.dtype}')\n",
    "print(f'    Faixa de valores: [{sample_images.min()}, {sample_images.max()}]')\n",
    "print()\n",
    "print(f'Label')\n",
    "print(f'    tx')\n",
    "print(f'        Formato: {sample_labels_reg.shape}')\n",
    "print(f'        Tipo: {sample_labels_reg.dtype}')\n",
    "print(f'        Faixa de valores: [{sample_labels_reg[:, 0].min()}, {sample_labels_reg[:, 0].max()}]')\n",
    "print(f'    ty')\n",
    "print(f'        Formato: {sample_labels_reg.shape}')\n",
    "print(f'        Tipo: {sample_labels_reg.dtype}')\n",
    "print(f'        Faixa de valores: [{sample_labels_reg[:, 1].min()}, {sample_labels_reg[:, 1].max()}]')\n",
    "print(f'    class')\n",
    "print(f'        Formato: {sample_labels_cls.shape}')\n",
    "print(f'        Tipo: {sample_labels_cls.dtype}')\n",
    "print(f'        Faixa de valores: [{sample_labels_cls[:, 0].min()}, {sample_labels_cls[:, 0].max()}]')\n",
    "print(f'    presence')\n",
    "print(f'        Formato: {sample_labels_cls.shape}')\n",
    "print(f'        Tipo: {sample_labels_cls.dtype}')\n",
    "print(f'        Faixa de valores: [{sample_labels_cls[:, 1].min()}, {sample_labels_cls[:, 1].max()}]')"
   ]
  },
  {
   "cell_type": "code",
   "execution_count": 14,
   "metadata": {
    "colab": {},
    "colab_type": "code",
    "id": "lT1vq4T9PZrz",
    "outputId": "d5d16f95-d97c-4011-c68e-ed168a2cc162"
   },
   "outputs": [
    {
     "name": "stdout",
     "output_type": "stream",
     "text": [
      "Saida\n",
      "    Formato: torch.Size([64, 14, 10, 10])\n",
      "    Tipo: torch.float32\n",
      "    Faixa de valores: [-0.07266690582036972, 0.10481467843055725]\n"
     ]
    }
   ],
   "source": [
    "custom_model = CustomModel().to(device)\n",
    "sample_images = sample_images.to(device)\n",
    "output = custom_model(sample_images)\n",
    "\n",
    "print(f'Saida')\n",
    "print(f'    Formato: {output.shape}')\n",
    "print(f'    Tipo: {output.dtype}')\n",
    "print(f'    Faixa de valores: [{output.min()}, {output.max()}]')"
   ]
  },
  {
   "cell_type": "code",
   "execution_count": 15,
   "metadata": {
    "colab": {},
    "colab_type": "code",
    "id": "lT1vq4T9PZrz",
    "outputId": "d5d16f95-d97c-4011-c68e-ed168a2cc162"
   },
   "outputs": [
    {
     "name": "stdout",
     "output_type": "stream",
     "text": [
      "loss: 3.700187921524048\n"
     ]
    }
   ],
   "source": [
    "crit = CustomLoss()\n",
    "sample_labels_reg = sample_labels_reg.to(device)\n",
    "sample_labels_cls = sample_labels_cls.to(device)\n",
    "loss = crit(output, sample_labels_reg, sample_labels_cls)\n",
    "print(f'loss: {loss}')"
   ]
  },
  {
   "cell_type": "markdown",
   "metadata": {},
   "source": [
    "## Treinamento"
   ]
  },
  {
   "cell_type": "code",
   "execution_count": 16,
   "metadata": {},
   "outputs": [],
   "source": [
    "n_epochs = 100\n",
    "\n",
    "optm = torch.optim.Adam(params=custom_model.parameters(), lr=1.e-4, betas=(0.9, 0.999))\n",
    "schd = torch.optim.lr_scheduler.StepLR(optm, step_size=10, gamma=0.75)"
   ]
  },
  {
   "cell_type": "code",
   "execution_count": 17,
   "metadata": {},
   "outputs": [],
   "source": [
    "def train_session(model, dataloaders, num_epochs, optimizer, criterion):\n",
    "    num_train_samples = len(dataloaders['train'].dataset)\n",
    "    num_valid_samples = len(dataloaders['valid'].dataset)\n",
    "    train_batch_size = dataloaders['train'].batch_size\n",
    "    valid_batch_size = dataloaders['valid'].batch_size\n",
    "\n",
    "    num_train_batches = num_train_samples // train_batch_size\n",
    "    num_valid_batches = num_valid_samples // valid_batch_size\n",
    "\n",
    "    batch_print_size = 10\n",
    "\n",
    "    epoch_train_loss_history = list()\n",
    "    epoch_valid_loss_history = list()\n",
    "    print('Start training for {} epochs'.format(num_epochs))\n",
    "\n",
    "    try:\n",
    "        for epoch in range(num_epochs):  # loop over the dataset multiple times\n",
    "            train_t0 = time.time()\n",
    "            epoch_train_loss = 0.0\n",
    "            running_loss = 0.0\n",
    "\n",
    "            for i, samples in enumerate(dataloaders['train']):\n",
    "                # get the inputs\n",
    "                images = samples[0].to(device)\n",
    "                labels_reg = samples[1].to(device)\n",
    "                labels_cls = samples[2].to(device)\n",
    "\n",
    "                # zero the parameter gradients\n",
    "                optimizer.zero_grad()\n",
    "\n",
    "                # forward + backward + optimize\n",
    "                outputs = custom_model(images)\n",
    "                loss = criterion(outputs, labels_reg, labels_cls)\n",
    "                loss_value = loss.cpu().item()\n",
    "                loss.backward()\n",
    "                optimizer.step()\n",
    "\n",
    "                # Update loss totals\n",
    "                running_loss += loss_value\n",
    "                epoch_train_loss += loss_value\n",
    "\n",
    "                # print statistics\n",
    "                if i % batch_print_size == (batch_print_size - 1):\n",
    "                    print(f'Train batch {i+1}/{num_train_batches}: loss {running_loss/batch_print_size}', end='\\r')\n",
    "                    running_loss = 0.0\n",
    "\n",
    "            epoch_train_loss /= num_train_samples\n",
    "            train_t1 = time.time() - train_t0\n",
    "\n",
    "\n",
    "            valid_t0 = time.time()\n",
    "            epoch_valid_loss = 0.0\n",
    "            running_loss = 0.0\n",
    "\n",
    "            with torch.no_grad():\n",
    "                for i, samples in enumerate(dataloaders['valid']):\n",
    "                    # get the inputs\n",
    "                    images = samples[0].to(device)\n",
    "                    labels_reg = samples[1].to(device)\n",
    "                    labels_cls = samples[2].to(device)\n",
    "\n",
    "                    # forward\n",
    "                    outputs = model(images)\n",
    "                    loss = criterion(outputs, labels_reg, labels_cls)\n",
    "                    loss_value = loss.cpu().item()\n",
    "\n",
    "                    # Update loss totals\n",
    "                    running_loss += loss_value\n",
    "                    epoch_valid_loss += loss_value\n",
    "\n",
    "                    # print statistics\n",
    "                    if i % batch_print_size == (batch_print_size - 1):\n",
    "                        print(f'Valid batch {i+1}/{num_valid_batches}: loss {running_loss/batch_print_size}', end='\\r')\n",
    "                        running_loss = 0.0\n",
    "\n",
    "            epoch_valid_loss /= num_valid_samples\n",
    "            valid_t1 = time.time() - valid_t0\n",
    "\n",
    "            epoch_train_loss_history.append(epoch_train_loss)\n",
    "            epoch_valid_loss_history.append(epoch_valid_loss)\n",
    "\n",
    "            print(f'Epoch {epoch:3d} > train: T={train_t1:5.1f}s | loss={epoch_train_loss}  valid: T={valid_t1:5.1f}s | loss={epoch_valid_loss}')\n",
    "\n",
    "        print('Finished Training')\n",
    "    except KeyboardInterrupt:\n",
    "        print('Finished by user')\n",
    "        \n",
    "    return epoch_train_loss_history, epoch_valid_loss_history"
   ]
  },
  {
   "cell_type": "code",
   "execution_count": 18,
   "metadata": {},
   "outputs": [],
   "source": [
    "def save_loss_history(loss_history_list, loss_history_filename):\n",
    "    file_obj = open(loss_history_filename, 'w')\n",
    "    for entry in loss_history_list:\n",
    "        file_obj.write(str(entry) + '\\n')\n",
    "    file_obj.close()\n",
    "\n",
    "def load_loss_history(loss_history_filename):\n",
    "    loss_history_list = list()\n",
    "\n",
    "    file_obj = open(loss_history_filename, 'r')\n",
    "    for line in file_obj:\n",
    "        loss_history_list.append(float(line.strip()))\n",
    "    file_obj.close()\n",
    "\n",
    "    return loss_history_list"
   ]
  },
  {
   "cell_type": "code",
   "execution_count": 19,
   "metadata": {},
   "outputs": [],
   "source": [
    "train = True\n",
    "epoch_train_loss_history_filename = 'epoch_train_loss_history.txt'\n",
    "epoch_valid_loss_history_filename = 'epoch_valid_loss_history.txt'"
   ]
  },
  {
   "cell_type": "code",
   "execution_count": 20,
   "metadata": {},
   "outputs": [
    {
     "name": "stdout",
     "output_type": "stream",
     "text": [
      "Start training for 100 epochs\n",
      "Epoch   0 > train: T= 10.8s | loss=0.05902784836292267  valid: T=  0.9s | loss=0.059178128242492675\n",
      "Epoch   1 > train: T= 10.8s | loss=0.058719566702842715  valid: T=  0.9s | loss=0.05791089344024658\n",
      "Epoch   2 > train: T= 10.8s | loss=0.05286483919620514  valid: T=  0.9s | loss=0.048406164646148685\n",
      "Epoch   3 > train: T= 10.8s | loss=0.046346840023994446  valid: T=  0.9s | loss=0.04504358243942261\n",
      "Epoch   4 > train: T= 10.8s | loss=0.04395858776569366  valid: T=  0.9s | loss=0.04329837036132812\n",
      "Epoch   5 > train: T= 10.8s | loss=0.04251967084407807  valid: T=  0.9s | loss=0.042063541412353515\n",
      "Epoch   6 > train: T= 10.8s | loss=0.0413796535730362  valid: T=  0.9s | loss=0.04108750581741333\n",
      "Epoch   7 > train: T= 10.8s | loss=0.040407607197761534  valid: T=  0.9s | loss=0.04003939628601074\n",
      "Epoch   8 > train: T= 10.8s | loss=0.039281105279922485  valid: T=  0.9s | loss=0.03892940330505371\n",
      "Epoch   9 > train: T= 10.8s | loss=0.037996019124984744  valid: T=  0.9s | loss=0.037580878734588624\n",
      "Epoch  10 > train: T= 10.8s | loss=0.03653409719467163  valid: T=  0.9s | loss=0.03609399938583374\n",
      "Epoch  11 > train: T= 10.8s | loss=0.034891684055328366  valid: T=  0.9s | loss=0.03456148672103882\n",
      "Epoch  12 > train: T= 10.8s | loss=0.03316006112098694  valid: T=  0.9s | loss=0.03295901346206665\n",
      "Epoch  13 > train: T= 10.8s | loss=0.03162955236434937  valid: T=  0.9s | loss=0.031227135181427\n",
      "Epoch  14 > train: T= 10.8s | loss=0.030067575931549073  valid: T=  0.9s | loss=0.030074045181274413\n",
      "Epoch  15 > train: T= 10.8s | loss=0.028698983252048494  valid: T=  0.9s | loss=0.028720359563827513\n",
      "Epoch  16 > train: T= 10.8s | loss=0.027423338770866394  valid: T=  0.9s | loss=0.027591380834579467\n",
      "Epoch  17 > train: T= 10.8s | loss=0.026341148018836975  valid: T=  0.9s | loss=0.026301384687423705\n",
      "Epoch  18 > train: T= 10.8s | loss=0.025232762455940246  valid: T=  0.9s | loss=0.0254752151966095\n",
      "Epoch  19 > train: T= 10.8s | loss=0.024303877890110015  valid: T=  0.9s | loss=0.02450398373603821\n",
      "Epoch  20 > train: T= 10.8s | loss=0.02350773686170578  valid: T=  0.9s | loss=0.02396937894821167\n",
      "Epoch  21 > train: T= 10.8s | loss=0.02264605563879013  valid: T=  0.9s | loss=0.022950218915939333\n",
      "Epoch  22 > train: T= 11.0s | loss=0.021955242753028868  valid: T=  0.9s | loss=0.022593582153320312\n",
      "Epoch  23 > train: T= 11.0s | loss=0.021228398978710174  valid: T=  0.9s | loss=0.021704281330108644\n",
      "Epoch  24 > train: T= 10.8s | loss=0.020659893691539765  valid: T=  0.9s | loss=0.0212628231048584\n",
      "Epoch  25 > train: T= 10.8s | loss=0.020003484964370728  valid: T=  0.9s | loss=0.020468168020248412\n",
      "Epoch  26 > train: T= 10.9s | loss=0.019330428659915924  valid: T=  0.9s | loss=0.019959144592285157\n",
      "Epoch  27 > train: T= 10.8s | loss=0.018824597477912902  valid: T=  0.9s | loss=0.019577961444854738\n",
      "Epoch  28 > train: T= 10.9s | loss=0.018435479938983916  valid: T=  0.9s | loss=0.018904109716415405\n",
      "Epoch  29 > train: T= 10.9s | loss=0.01780014443397522  valid: T=  0.9s | loss=0.01845426940917969\n",
      "Epoch  30 > train: T= 10.9s | loss=0.017430001258850098  valid: T=  0.9s | loss=0.018149635553359987\n",
      "Epoch  31 > train: T= 10.9s | loss=0.016944825917482375  valid: T=  0.9s | loss=0.017880123615264892\n",
      "Epoch  32 > train: T= 10.9s | loss=0.016498868107795717  valid: T=  0.9s | loss=0.01715197968482971\n",
      "Epoch  33 > train: T= 10.9s | loss=0.01606472831964493  valid: T=  0.9s | loss=0.016754101276397704\n",
      "Epoch  34 > train: T= 10.9s | loss=0.015636756747961045  valid: T=  0.9s | loss=0.016644258499145508\n",
      "Epoch  35 > train: T= 10.9s | loss=0.015348020881414414  valid: T=  0.9s | loss=0.016353615522384644\n",
      "Epoch  36 > train: T= 10.9s | loss=0.015000661075115204  valid: T=  0.9s | loss=0.015713245630264282\n",
      "Epoch  37 > train: T= 10.9s | loss=0.014557979553937912  valid: T=  0.9s | loss=0.015323713898658753\n",
      "Epoch  38 > train: T= 10.9s | loss=0.01427047124505043  valid: T=  0.9s | loss=0.015146121740341186\n",
      "Epoch  39 > train: T= 10.9s | loss=0.013878186255693436  valid: T=  0.9s | loss=0.014704460501670838\n",
      "Epoch  40 > train: T= 10.9s | loss=0.013520236670970917  valid: T=  0.9s | loss=0.01439528775215149\n",
      "Epoch  41 > train: T= 10.9s | loss=0.013260408878326416  valid: T=  0.9s | loss=0.014166396737098694\n",
      "Epoch  42 > train: T= 10.9s | loss=0.01304101574420929  valid: T=  0.9s | loss=0.014514838576316833\n",
      "Epoch  43 > train: T= 10.9s | loss=0.012678076297044753  valid: T=  0.9s | loss=0.013768460273742676\n",
      "Epoch  44 > train: T= 10.9s | loss=0.01233088183403015  valid: T=  0.9s | loss=0.013256093621253967\n",
      "Epoch  45 > train: T= 10.9s | loss=0.012050936460494995  valid: T=  0.9s | loss=0.012880524396896362\n",
      "Epoch  46 > train: T= 10.9s | loss=0.01174732068181038  valid: T=  0.9s | loss=0.012734683990478515\n",
      "Epoch  47 > train: T= 10.9s | loss=0.011594937086105346  valid: T=  0.9s | loss=0.012415348172187805\n",
      "Epoch  48 > train: T= 11.0s | loss=0.011441334456205368  valid: T=  1.0s | loss=0.012252953886985779\n",
      "Epoch  49 > train: T= 11.3s | loss=0.011068412363529205  valid: T=  0.9s | loss=0.011994241714477539\n",
      "Epoch  50 > train: T= 10.8s | loss=0.010874018639326095  valid: T=  0.9s | loss=0.011909744143486023\n",
      "Epoch  51 > train: T= 10.8s | loss=0.010671344250440598  valid: T=  0.9s | loss=0.011546562194824219\n",
      "Epoch  52 > train: T= 10.8s | loss=0.010510527402162552  valid: T=  0.9s | loss=0.01122500479221344\n",
      "Epoch  53 > train: T= 10.8s | loss=0.01030330416560173  valid: T=  0.9s | loss=0.011153941869735718\n",
      "Epoch  54 > train: T= 10.8s | loss=0.010093742847442628  valid: T=  0.9s | loss=0.01081826102733612\n",
      "Epoch  55 > train: T= 10.8s | loss=0.009827326864004135  valid: T=  0.9s | loss=0.010637817263603211\n",
      "Epoch  56 > train: T= 10.8s | loss=0.009717628091573715  valid: T=  0.9s | loss=0.010589194416999816\n",
      "Epoch  57 > train: T= 10.8s | loss=0.009522590726613999  valid: T=  0.9s | loss=0.010358425974845886\n",
      "Epoch  58 > train: T= 10.8s | loss=0.009276780664920808  valid: T=  0.9s | loss=0.01036323070526123\n",
      "Epoch  59 > train: T= 10.8s | loss=0.00915295135974884  valid: T=  0.9s | loss=0.010027967810630799\n",
      "Epoch  60 > train: T= 10.8s | loss=0.0089490807056427  valid: T=  0.9s | loss=0.009924492359161378\n",
      "Epoch  61 > train: T= 10.8s | loss=0.008793179154396057  valid: T=  0.9s | loss=0.00973866069316864\n",
      "Epoch  62 > train: T= 10.8s | loss=0.008781234756112099  valid: T=  0.9s | loss=0.009665393829345703\n",
      "Epoch  63 > train: T= 10.8s | loss=0.008524150282144547  valid: T=  0.9s | loss=0.009470916390419006\n",
      "Epoch  64 > train: T= 10.8s | loss=0.008412468001246452  valid: T=  0.9s | loss=0.009293905019760133\n",
      "Epoch  65 > train: T= 10.8s | loss=0.008246411889791489  valid: T=  0.9s | loss=0.009208551049232483\n",
      "Epoch  66 > train: T= 10.8s | loss=0.008194028511643409  valid: T=  0.9s | loss=0.009506421446800232\n",
      "Epoch  67 > train: T= 10.8s | loss=0.008121518954634666  valid: T=  0.9s | loss=0.009394611954689026\n",
      "Epoch  68 > train: T= 10.8s | loss=0.007983306661248206  valid: T=  0.9s | loss=0.008873723030090331\n",
      "Epoch  69 > train: T= 10.8s | loss=0.007668523132801056  valid: T=  0.9s | loss=0.008749820709228516\n",
      "Epoch  70 > train: T= 10.8s | loss=0.007616378828883171  valid: T=  0.9s | loss=0.008553333401679993\n",
      "Epoch  71 > train: T= 10.8s | loss=0.007465943217277527  valid: T=  0.9s | loss=0.00851412558555603\n",
      "Epoch  72 > train: T= 10.8s | loss=0.0074312019944190975  valid: T=  0.9s | loss=0.00833699506521225\n",
      "Epoch  73 > train: T= 10.8s | loss=0.007317161381244659  valid: T=  0.9s | loss=0.008389469146728515\n",
      "Epoch  74 > train: T= 10.8s | loss=0.00721000574529171  valid: T=  0.9s | loss=0.008822517156600953\n",
      "Epoch  75 > train: T= 10.8s | loss=0.007083700910210609  valid: T=  0.9s | loss=0.00816261738538742\n",
      "Epoch  76 > train: T= 10.8s | loss=0.006939740881323814  valid: T=  0.9s | loss=0.008029403507709504\n",
      "Epoch  77 > train: T= 10.8s | loss=0.006867135733366013  valid: T=  0.9s | loss=0.008001941740512847\n",
      "Epoch  78 > train: T= 10.8s | loss=0.006848101705312729  valid: T=  0.9s | loss=0.007764683604240418\n",
      "Epoch  79 > train: T= 10.8s | loss=0.006704717993736267  valid: T=  0.9s | loss=0.007726553320884705\n",
      "Epoch  80 > train: T= 10.8s | loss=0.0065846493393182754  valid: T=  0.9s | loss=0.007648994028568268\n",
      "Epoch  81 > train: T= 10.8s | loss=0.006550356984138489  valid: T=  0.9s | loss=0.007571604073047638\n",
      "Epoch  82 > train: T= 10.8s | loss=0.006458197072148323  valid: T=  0.9s | loss=0.0075760728120803835\n",
      "Epoch  83 > train: T= 10.8s | loss=0.0064158418029546735  valid: T=  0.9s | loss=0.00755549418926239\n",
      "Epoch  84 > train: T= 10.8s | loss=0.006291434600949287  valid: T=  0.9s | loss=0.0073182531595230105\n",
      "Epoch  85 > train: T= 10.8s | loss=0.006136165514588356  valid: T=  0.9s | loss=0.007408162355422973\n",
      "Epoch  86 > train: T= 10.8s | loss=0.006134593084454536  valid: T=  0.9s | loss=0.007735104918479919\n",
      "Epoch  87 > train: T= 10.8s | loss=0.006173063978552818  valid: T=  0.9s | loss=0.0071587033867836\n",
      "Epoch  88 > train: T= 10.8s | loss=0.00593879659473896  valid: T=  0.9s | loss=0.00731947648525238\n",
      "Epoch  89 > train: T= 10.8s | loss=0.005911307767033577  valid: T=  0.9s | loss=0.007110103905200958\n",
      "Epoch  90 > train: T= 10.8s | loss=0.00587116388976574  valid: T=  0.9s | loss=0.006887465953826904\n",
      "Epoch  91 > train: T= 10.8s | loss=0.005857528448104859  valid: T=  0.9s | loss=0.007364209830760956\n",
      "Epoch  92 > train: T= 10.8s | loss=0.005761633440852165  valid: T=  0.9s | loss=0.0068155134320259094\n",
      "Epoch  93 > train: T= 10.8s | loss=0.005634309709072113  valid: T=  0.9s | loss=0.00701364129781723\n",
      "Epoch  94 > train: T= 10.8s | loss=0.005588678836822509  valid: T=  0.9s | loss=0.006655037999153137\n",
      "Epoch  95 > train: T= 10.8s | loss=0.00551051826775074  valid: T=  0.9s | loss=0.006715958595275879\n",
      "Epoch  96 > train: T= 10.8s | loss=0.005431153297424316  valid: T=  0.9s | loss=0.006697437644004821\n",
      "Epoch  97 > train: T= 10.8s | loss=0.005392577424645424  valid: T=  0.9s | loss=0.006639545917510987\n",
      "Epoch  98 > train: T= 10.8s | loss=0.005410324066877365  valid: T=  0.9s | loss=0.006644831895828247\n",
      "Epoch  99 > train: T= 10.8s | loss=0.005242727652192115  valid: T=  0.9s | loss=0.006508561849594116\n",
      "Finished Training\n"
     ]
    }
   ],
   "source": [
    "if train:\n",
    "    epoch_train_loss_history, epoch_valid_loss_history = train_session(custom_model, dataloaders, n_epochs, optm, crit)\n",
    "    torch.save(custom_model.state_dict(), './model/custom_model')\n",
    "    save_loss_history(epoch_train_loss_history, epoch_train_loss_history_filename)\n",
    "    save_loss_history(epoch_valid_loss_history, epoch_valid_loss_history_filename)\n",
    "else:\n",
    "    custom_model.load_state_dict(torch.load('./model/custom_model'))\n",
    "    epoch_train_loss_history = load_loss_history(epoch_train_loss_history_filename)\n",
    "    epoch_valid_loss_history = load_loss_history(epoch_valid_loss_history_filename)"
   ]
  },
  {
   "cell_type": "markdown",
   "metadata": {},
   "source": [
    "### Evolução do treinamento"
   ]
  },
  {
   "cell_type": "code",
   "execution_count": 21,
   "metadata": {},
   "outputs": [
    {
     "data": {
      "image/png": "[encoded data removed]",
      "text/plain": [
       "<Figure size 432x288 with 1 Axes>"
      ]
     },
     "metadata": {},
     "output_type": "display_data"
    }
   ],
   "source": [
    "a_epochs = np.arange(1, 1 + len(epoch_train_loss_history))\n",
    "plt.plot(a_epochs, epoch_train_loss_history, 'bs', a_epochs, epoch_valid_loss_history, 'g^')\n",
    "plt.show()"
   ]
  },
  {
   "cell_type": "markdown",
   "metadata": {},
   "source": [
    "### Cálculo da acurácia no conjunto de testes"
   ]
  },
  {
   "cell_type": "code",
   "execution_count": 49,
   "metadata": {},
   "outputs": [],
   "source": [
    "test_loss = list()\n",
    "\n",
    "test_image = list()\n",
    "\n",
    "test_label_reg = list()\n",
    "test_label_class = list()\n",
    "test_label_presence = list()\n",
    "\n",
    "test_output_reg = list()\n",
    "test_output_class = list()\n",
    "test_output_presence = list()\n",
    "\n",
    "with torch.no_grad():\n",
    "    for i, samples in enumerate(dataset_test):\n",
    "        # get the inputs\n",
    "        images = samples[0].unsqueeze(0).to(device)\n",
    "        labels_reg = samples[1].unsqueeze(0).to(device)\n",
    "        labels_cls = samples[2].unsqueeze(0).to(device)\n",
    "\n",
    "        # forward\n",
    "        outputs = custom_model(images)\n",
    "        loss = crit(outputs, labels_reg, labels_cls)\n",
    "\n",
    "        test_loss.append(loss.cpu().item())\n",
    "\n",
    "        test_image.append(samples[0].numpy())\n",
    "\n",
    "        test_label_reg.append(samples[1].numpy())\n",
    "        test_output_reg.append(outputs[0, 0:2].cpu().numpy())\n",
    "\n",
    "        samples_cls_array = samples[2].numpy()\n",
    "        test_label_class.append(samples_cls_array[0])\n",
    "        test_output_class.append(np.argmax(outputs[0, 2:12].cpu().numpy(), axis=0))\n",
    "\n",
    "        test_label_presence.append(samples_cls_array[1])\n",
    "        test_output_presence.append(np.argmax(outputs[0, 12:].cpu().numpy(), axis=0))"
   ]
  },
  {
   "cell_type": "code",
   "execution_count": 66,
   "metadata": {},
   "outputs": [],
   "source": [
    "test_loss_array = np.array(test_loss)\n",
    "test_loss_idx = np.argsort(test_loss_array)\n",
    "\n",
    "test_arrays = {\n",
    "    'image_array': np.concatenate(test_image),\n",
    "    'label_reg_array': np.stack(test_label_reg),\n",
    "    'output_reg_array': np.stack(test_output_reg),\n",
    "    'label_class_array': np.stack(test_label_class),\n",
    "    'output_class_array': np.stack(test_output_class),\n",
    "    'label_presence_array': np.stack(test_label_presence),\n",
    "    'output_presence_array': np.stack(test_output_presence)\n",
    "}"
   ]
  },
  {
   "cell_type": "code",
   "execution_count": 63,
   "metadata": {},
   "outputs": [
    {
     "data": {
      "text/plain": [
       "(200, 2, 10, 10)"
      ]
     },
     "execution_count": 63,
     "metadata": {},
     "output_type": "execute_result"
    }
   ],
   "source": [
    "test_label_reg_array.shape"
   ]
  },
  {
   "cell_type": "code",
   "execution_count": 67,
   "metadata": {},
   "outputs": [
    {
     "name": "stdout",
     "output_type": "stream",
     "text": [
      "Acurácia: 90.78282828282828%\n"
     ]
    }
   ],
   "source": [
    "num_digits = np.sum(test_arrays['label_presence_array'])\n",
    "predicted_digits = (test_arrays['output_class_array'] * test_arrays['output_presence_array'])\n",
    "correct_digits = np.sum(predicted_digits == test_arrays['label_class_array'])\n",
    "print(f'Acurácia: {num_correct_samples * 100.0 / num_digits}%')"
   ]
  },
  {
   "cell_type": "code",
   "execution_count": 72,
   "metadata": {},
   "outputs": [],
   "source": [
    "def vizResult(idx, arrays_dict):\n",
    "    plt.imshow(arrays_dict['image_array'][idx])\n",
    "    plt.show()\n",
    "\n",
    "    print(f'tx label:\\n{np.around(arrays_dict[\"label_reg_array\"][idx, 0], decimals=2)}\\n')\n",
    "    print(f'tx predict:\\n{np.around(arrays_dict[\"output_reg_array\"][idx, 0], decimals=2)}\\n')\n",
    "    print()\n",
    "    print(f'ty label:\\n{np.around(arrays_dict[\"label_reg_array\"][idx, 1], decimals=2)}\\n')\n",
    "    print(f'ty predict:\\n{np.around(arrays_dict[\"output_reg_array\"][idx, 1], decimals=2)}\\n')\n",
    "    print()\n",
    "    print(f'class label:\\n{arrays_dict[\"label_class_array\"][idx]}\\n')\n",
    "    print(f'class predict:\\n{arrays_dict[\"output_class_array\"][idx]}\\n')\n",
    "    print()\n",
    "    print(f'presence label:\\n{arrays_dict[\"label_presence_array\"][idx]}\\n')\n",
    "    print(f'presence predict:\\n{arrays_dict[\"output_presence_array\"][idx]}\\n')"
   ]
  },
  {
   "cell_type": "code",
   "execution_count": null,
   "metadata": {},
   "outputs": [],
   "source": [
    "def vizResultImage(idx, arrays_dict):\n",
    "    cell_central_pixel = np.arange(8, 160, 16)\n",
    "    cell_central_pixel_mat = np.meshgrid(cell_central_pixel, cell_central_pixel)\n",
    "\n",
    "    label_presence_idxs = arrays_dict['label_presence_array'][idx].nonzero()\n",
    "    output_presence_idxs = arrays_dict['output_presence_array'][idx].nonzero()\n",
    "\n",
    "    label_cell_central_pixel_x_array = cell_central_pixel_mat[0][label_presence_idxs]\n",
    "    label_cell_central_pixel_y_array = cell_central_pixel_mat[1][label_presence_idxs]\n",
    "    label_frame_array = label_cell_central_pixel_x_array - 14\n",
    "\n",
    "    output_cell_central_pixel_x_array = cell_central_pixel_mat[0][output_presence_idxs]\n",
    "    output_cell_central_pixel_y_array = cell_central_pixel_mat[1][output_presence_idxs]\n",
    "\n",
    "    label_tx_array = arrays_dict['label_reg_array'][idx, 0][label_presence_idxs] * 8.0\n",
    "    output_tx_array = arrays_dict['output_reg_array'][idx, 0][output_presence_idxs] * 8.0\n",
    "\n",
    "    label_ty_array = arrays_dict['label_reg_array'][idx, 1][label_presence_idxs] * 8.0\n",
    "    output_ty_array = arrays_dict['output_reg_array'][idx, 1][output_presence_idxs] * 8.0\n",
    "\n",
    "    label_class_array = arrays_dict['label_class_array'][idx][label_presence_idxs]\n",
    "    output_class_array = arrays_dict['output_class_array'][idx][output_presence_idxs]\n",
    "\n",
    "    ax = plt.imshow(arrays_dict['image_array'][idx])\n",
    "    for entry_idx in range(len(label_presence_idxs)):\n",
    "        centroid = label_presence_idxs[entry_idx] + 8\n",
    "        bbox = []\n",
    "        ax.add_patch(patches.Rectangle(entry['bbox'][:2], entry['bbox'][2], entry['bbox'][3],\n",
    "                                       fill=False, edgecolor='blue', lw=2))\n",
    "\n",
    "        ax.set_title(f'{entry[\"label\"]} - {entry[\"image\"].shape}')\n",
    "        ax.axis('off')\n",
    "    plt.show()\n",
    "\n",
    "    num_imgs = len(image_ids)\n",
    "    num_rows = int(np.ceil(num_imgs/num_cols))\n",
    "\n",
    "    viz_transforms = torchvision.transforms.Compose([\n",
    "        ToNumpy(),\n",
    "        Normalize(reverse=True)\n",
    "    ])\n",
    "\n",
    "    for idx in range(num_imgs):\n",
    "        img_id = image_ids[idx]\n",
    "        entry = viz_transforms(dataset[img_id])\n",
    "\n",
    "        ax = fig.add_subplot(num_rows, num_cols, 1 + idx)\n",
    "        ax.imshow(entry['image'])\n",
    "\n",
    "        h, w = entry['image'].shape[:2]\n",
    "\n",
    "        ax.add_patch(patches.Rectangle(entry['bbox'][:2], entry['bbox'][2], entry['bbox'][3],\n",
    "                                       fill=False, edgecolor='blue', lw=2))\n",
    "\n",
    "        ax.set_title(f'{entry[\"label\"]} - {entry[\"image\"].shape}')\n",
    "        ax.axis('off')\n",
    "    plt.show()"
   ]
  },
  {
   "cell_type": "markdown",
   "metadata": {},
   "source": [
    "### Exemplo com menor perda"
   ]
  },
  {
   "cell_type": "code",
   "execution_count": 73,
   "metadata": {},
   "outputs": [
    {
     "data": {
      "image/png": "[encoded data removed]",
      "text/plain": [
       "<Figure size 432x288 with 1 Axes>"
      ]
     },
     "metadata": {},
     "output_type": "display_data"
    },
    {
     "name": "stdout",
     "output_type": "stream",
     "text": [
      "tx label:\n",
      "[[ 0.    0.    0.    0.    0.    0.    0.    0.    0.    0.  ]\n",
      " [ 0.    0.    0.    0.    0.    0.    0.    0.    0.    0.  ]\n",
      " [ 0.    0.    0.25  0.    0.25  0.    0.38  0.    0.    0.  ]\n",
      " [ 0.    0.    0.    0.    0.    0.    0.    0.    0.    0.  ]\n",
      " [ 0.    0.    0.    0.    0.    0.    0.    0.   -0.12  0.  ]\n",
      " [ 0.    1.    0.    0.   -0.62  0.    0.    0.    0.    0.  ]\n",
      " [ 0.    0.    0.    0.    0.    0.   -0.38  0.    0.    0.  ]\n",
      " [ 0.    0.    0.    0.    0.    0.    0.    0.    0.    0.  ]\n",
      " [ 0.75  0.    0.75  0.    0.    0.    0.    0.    0.    0.  ]\n",
      " [ 0.    0.    0.    0.    0.    0.    0.    0.    0.    0.  ]]\n",
      "\n",
      "tx predict:\n",
      "[[ 0.03  0.14  0.37  0.08  0.38  0.24  0.1   0.01  0.13  0.02]\n",
      " [-0.03  0.24  0.12  0.15  0.26  0.1   0.63  0.22  0.03 -0.28]\n",
      " [ 0.04  1.    0.3  -0.15  0.11 -0.19  0.53 -1.14 -0.11 -0.17]\n",
      " [ 0.12  0.7   0.29 -0.26  0.23 -0.46  0.39 -0.48  0.08 -0.3 ]\n",
      " [ 0.11  0.67  0.02  0.5  -0.26 -0.47  0.56  0.85 -0.19 -0.95]\n",
      " [ 0.57  0.87 -0.95  0.89 -0.69  0.16  0.04  0.47 -0.11 -0.59]\n",
      " [ 0.29  0.14 -0.04  0.24 -0.15  1.18 -0.49 -0.2   0.   -0.27]\n",
      " [ 0.41 -0.08  0.33  0.09  0.04  0.59 -0.08 -0.1   0.06 -0.22]\n",
      " [ 0.76 -0.6   0.58 -0.95 -0.01  0.15  0.14  0.18  0.18 -0.25]\n",
      " [ 0.6  -0.14  0.49 -0.4   0.19  0.12  0.17  0.18  0.17 -0.29]]\n",
      "\n",
      "\n",
      "ty label:\n",
      "[[ 0.    0.    0.    0.    0.    0.    0.    0.    0.    0.  ]\n",
      " [ 0.    0.    0.    0.    0.    0.    0.    0.    0.    0.  ]\n",
      " [ 0.    0.    0.12  0.    0.12  0.    0.62  0.    0.    0.  ]\n",
      " [ 0.    0.    0.    0.    0.    0.    0.    0.    0.    0.  ]\n",
      " [ 0.    0.    0.    0.    0.    0.    0.    0.    0.38  0.  ]\n",
      " [ 0.   -0.5   0.    0.   -0.75  0.    0.    0.    0.    0.  ]\n",
      " [ 0.    0.    0.    0.    0.    0.    0.12  0.    0.    0.  ]\n",
      " [ 0.    0.    0.    0.    0.    0.    0.    0.    0.    0.  ]\n",
      " [ 0.12  0.    0.75  0.    0.    0.    0.    0.    0.    0.  ]\n",
      " [ 0.    0.    0.    0.    0.    0.    0.    0.    0.    0.  ]]\n",
      "\n",
      "ty predict:\n",
      "[[ 0.18  0.24  0.25  0.41  0.25  0.2   0.24  0.31  0.18  0.32]\n",
      " [ 0.05  0.42  1.09  0.94  1.14  0.75  0.59  0.35  0.21  0.17]\n",
      " [ 0.19  0.34  0.1   0.17  0.03  0.21  0.66  0.53  0.14  0.23]\n",
      " [ 0.31 -0.12 -0.28 -0.2   0.18 -0.46 -0.43  0.23  1.15  0.37]\n",
      " [-0.03  0.47  0.89  0.18  0.71  0.2   0.56  0.24  0.53  0.2 ]\n",
      " [ 0.21 -0.35 -0.74 -0.69 -0.72  0.31  1.23 -0.21 -0.97 -0.51]\n",
      " [-0.1  -0.81 -0.63  0.15 -0.47  0.09  0.13  0.03 -0.19 -0.19]\n",
      " [ 0.21  0.65  0.5   0.38  0.01 -0.25 -0.81 -0.54 -0.05  0.09]\n",
      " [ 0.28  0.34  0.47  0.54  0.03  0.12  0.03 -0.07  0.06  0.19]\n",
      " [-0.58 -1.02 -0.68 -0.76 -0.05 -0.   -0.   -0.05 -0.04 -0.06]]\n",
      "\n",
      "\n",
      "class label:\n",
      "[[-1 -1 -1 -1 -1 -1 -1 -1 -1 -1]\n",
      " [-1 -1 -1 -1 -1 -1 -1 -1 -1 -1]\n",
      " [-1 -1  3 -1  3 -1  4 -1 -1 -1]\n",
      " [-1 -1 -1 -1 -1 -1 -1 -1 -1 -1]\n",
      " [-1 -1 -1 -1 -1 -1 -1 -1  3 -1]\n",
      " [-1  7 -1 -1  1 -1 -1 -1 -1 -1]\n",
      " [-1 -1 -1 -1 -1 -1  7 -1 -1 -1]\n",
      " [-1 -1 -1 -1 -1 -1 -1 -1 -1 -1]\n",
      " [ 4 -1  1 -1 -1 -1 -1 -1 -1 -1]\n",
      " [-1 -1 -1 -1 -1 -1 -1 -1 -1 -1]]\n",
      "\n",
      "class predict:\n",
      "[[5 5 5 5 5 5 5 3 3 3]\n",
      " [5 5 3 5 9 5 9 1 5 3]\n",
      " [3 3 3 7 3 4 4 4 4 5]\n",
      " [5 5 3 1 9 4 4 4 2 2]\n",
      " [5 7 1 1 1 4 5 3 3 5]\n",
      " [9 7 1 1 1 9 7 5 3 5]\n",
      " [1 1 1 1 1 7 7 7 5 5]\n",
      " [1 1 1 1 1 1 1 5 5 5]\n",
      " [4 4 1 1 5 5 5 5 5 3]\n",
      " [5 4 1 1 5 5 5 5 5 3]]\n",
      "\n",
      "\n",
      "presence label:\n",
      "[[0 0 0 0 0 0 0 0 0 0]\n",
      " [0 0 0 0 0 0 0 0 0 0]\n",
      " [0 0 1 0 1 0 1 0 0 0]\n",
      " [0 0 0 0 0 0 0 0 0 0]\n",
      " [0 0 0 0 0 0 0 0 1 0]\n",
      " [0 1 0 0 1 0 0 0 0 0]\n",
      " [0 0 0 0 0 0 1 0 0 0]\n",
      " [0 0 0 0 0 0 0 0 0 0]\n",
      " [1 0 1 0 0 0 0 0 0 0]\n",
      " [0 0 0 0 0 0 0 0 0 0]]\n",
      "\n",
      "presence predict:\n",
      "[[0 0 0 0 0 0 0 0 0 0]\n",
      " [0 0 0 0 0 0 0 0 0 0]\n",
      " [0 0 1 0 1 0 1 0 0 0]\n",
      " [0 0 0 0 0 0 0 0 0 0]\n",
      " [0 0 0 0 0 0 0 0 1 0]\n",
      " [0 1 1 0 1 0 0 0 0 0]\n",
      " [0 0 0 0 0 0 1 0 0 0]\n",
      " [0 0 0 0 0 0 0 0 0 0]\n",
      " [1 0 1 0 0 0 0 0 0 0]\n",
      " [0 0 0 0 0 0 0 0 0 0]]\n",
      "\n"
     ]
    }
   ],
   "source": [
    "vizResult(test_loss_idx[0], test_arrays)"
   ]
  },
  {
   "cell_type": "markdown",
   "metadata": {},
   "source": [
    "### Exemplo com maior perda"
   ]
  },
  {
   "cell_type": "code",
   "execution_count": 75,
   "metadata": {},
   "outputs": [
    {
     "data": {
      "image/png": "[encoded data removed]",
      "text/plain": [
       "<Figure size 432x288 with 1 Axes>"
      ]
     },
     "metadata": {},
     "output_type": "display_data"
    },
    {
     "name": "stdout",
     "output_type": "stream",
     "text": [
      "tx label:\n",
      "[[ 0.    0.    0.    0.    0.    0.    0.    0.    0.    0.  ]\n",
      " [ 0.    0.    0.    0.    0.62  0.    0.    0.    0.    0.  ]\n",
      " [ 0.    0.   -0.38  0.    0.    0.    0.    0.    0.    0.  ]\n",
      " [ 0.    0.    0.    0.    0.    0.   -0.12  0.    0.    0.  ]\n",
      " [ 0.    0.    0.    0.    0.    0.    0.    0.    0.5   0.  ]\n",
      " [ 0.    0.    0.5   0.    0.   -0.88  0.    0.    0.    0.  ]\n",
      " [ 0.    0.    0.    0.    0.    0.    0.    0.    0.    0.  ]\n",
      " [ 0.    0.    0.    0.    0.62  0.    0.    0.    0.88  0.  ]\n",
      " [ 0.    0.   -0.25  0.    0.    0.    0.    0.    0.    0.  ]\n",
      " [ 0.    0.    0.    0.    0.    0.    0.    0.    0.    0.  ]]\n",
      "\n",
      "tx predict:\n",
      "[[ 0.04  0.14  0.38  0.56  0.34 -0.31  0.04  0.09  0.22  0.04]\n",
      " [-0.02 -0.07  0.4   0.76  0.44 -0.93  0.3   0.09  0.12 -0.18]\n",
      " [-0.02  0.79 -0.35 -0.16  0.21  0.16  0.16 -0.17  0.08 -0.12]\n",
      " [-0.16  0.81 -0.25 -0.19  0.27  0.82 -0.01 -0.44  0.33 -0.57]\n",
      " [-0.02  0.33  0.48  0.03  0.28  0.49 -0.04  0.24  0.51 -0.99]\n",
      " [ 0.03  0.53  0.4  -0.65  0.67 -0.96 -0.06  0.4   0.15 -0.73]\n",
      " [ 0.05  0.26  0.27 -0.17  1.05 -0.41 -0.18 -0.09  0.74 -0.11]\n",
      " [ 0.05 -0.07  0.38  0.46  0.55 -0.81  0.16  0.78  1.27 -1.59]\n",
      " [ 0.08  0.82 -0.28 -0.45  0.61 -0.58 -0.04  0.18  0.73 -0.85]\n",
      " [ 0.08  0.76 -0.    0.03  0.28  0.22  0.3   0.14  0.45 -0.32]]\n",
      "\n",
      "\n",
      "ty label:\n",
      "[[ 0.    0.    0.    0.    0.    0.    0.    0.    0.    0.  ]\n",
      " [ 0.    0.    0.    0.   -0.88  0.    0.    0.    0.    0.  ]\n",
      " [ 0.    0.    1.    0.    0.    0.    0.    0.    0.    0.  ]\n",
      " [ 0.    0.    0.    0.    0.    0.    0.12  0.    0.    0.  ]\n",
      " [ 0.    0.    0.    0.    0.    0.    0.    0.    0.62  0.  ]\n",
      " [ 0.    0.   -0.38  0.    0.    0.88  0.    0.    0.    0.  ]\n",
      " [ 0.    0.    0.    0.    0.    0.    0.    0.    0.    0.  ]\n",
      " [ 0.    0.    0.    0.    1.    0.    0.    0.    0.25  0.  ]\n",
      " [ 0.    0.    0.5   0.    0.    0.    0.    0.    0.    0.  ]\n",
      " [ 0.    0.    0.    0.    0.    0.    0.    0.    0.    0.  ]]\n",
      "\n",
      "ty predict:\n",
      "[[ 0.16  0.17  0.29  0.76  1.16  0.99  0.09  0.26  0.23  0.35]\n",
      " [ 0.02  0.2   0.09 -0.07 -0.75 -0.59 -0.2  -0.06  0.03  0.16]\n",
      " [-0.12  0.48  1.05  0.21 -0.3   0.16  1.01  0.49  0.06  0.16]\n",
      " [ 0.29 -0.43 -0.77  0.13 -0.31  0.3   0.25  0.17  0.41  0.65]\n",
      " [ 0.47  0.58  0.78  0.69  0.8   0.17 -0.35  0.12  0.44  0.28]\n",
      " [-0.13  0.05 -0.34 -0.12  0.26  0.25  0.38 -0.07 -0.87 -0.54]\n",
      " [ 0.18 -0.17 -0.45 -0.29  0.11 -0.27 -0.2   0.22  0.44  1.7 ]\n",
      " [-0.07  0.1   0.23  0.63  1.16  0.2   0.03  0.23  0.24  0.18]\n",
      " [-0.16 -0.17  0.56  0.19 -0.73 -0.59 -0.12  0.26 -1.12 -0.68]\n",
      " [ 0.13 -0.47 -1.14 -0.5  -0.25 -0.36 -0.06 -0.15 -0.04 -0.19]]\n",
      "\n",
      "\n",
      "class label:\n",
      "[[-1 -1 -1 -1 -1 -1 -1 -1 -1 -1]\n",
      " [-1 -1 -1 -1  0 -1 -1 -1 -1 -1]\n",
      " [-1 -1  6 -1 -1 -1 -1 -1 -1 -1]\n",
      " [-1 -1 -1 -1 -1 -1  2 -1 -1 -1]\n",
      " [-1 -1 -1 -1 -1 -1 -1 -1  6 -1]\n",
      " [-1 -1  6 -1 -1  9 -1 -1 -1 -1]\n",
      " [-1 -1 -1 -1 -1 -1 -1 -1 -1 -1]\n",
      " [-1 -1 -1 -1  1 -1 -1 -1  0 -1]\n",
      " [-1 -1  6 -1 -1 -1 -1 -1 -1 -1]\n",
      " [-1 -1 -1 -1 -1 -1 -1 -1 -1 -1]]\n",
      "\n",
      "class predict:\n",
      "[[3 5 5 2 0 5 3 5 3 3]\n",
      " [5 5 2 1 0 2 5 5 5 3]\n",
      " [5 1 6 6 5 5 2 5 5 1]\n",
      " [5 1 6 6 5 2 2 5 6 1]\n",
      " [5 1 6 5 5 5 5 5 6 6]\n",
      " [5 6 6 6 4 9 5 5 6 5]\n",
      " [5 5 5 9 9 7 5 5 5 2]\n",
      " [5 2 0 0 2 3 5 2 0 0]\n",
      " [5 6 6 6 2 2 5 5 5 0]\n",
      " [5 4 6 6 5 5 5 5 5 9]]\n",
      "\n",
      "\n",
      "presence label:\n",
      "[[0 0 0 0 0 0 0 0 0 0]\n",
      " [0 0 0 0 1 0 0 0 0 0]\n",
      " [0 0 1 0 0 0 0 0 0 0]\n",
      " [0 0 0 0 0 0 1 0 0 0]\n",
      " [0 0 0 0 0 0 0 0 1 0]\n",
      " [0 0 1 0 0 1 0 0 0 0]\n",
      " [0 0 0 0 0 0 0 0 0 0]\n",
      " [0 0 0 0 1 0 0 0 1 0]\n",
      " [0 0 1 0 0 0 0 0 0 0]\n",
      " [0 0 0 0 0 0 0 0 0 0]]\n",
      "\n",
      "presence predict:\n",
      "[[0 0 0 0 0 0 0 0 0 0]\n",
      " [0 0 0 0 1 0 0 0 0 0]\n",
      " [0 0 1 0 0 0 0 0 0 0]\n",
      " [0 0 0 0 0 0 1 0 0 0]\n",
      " [0 0 0 0 0 0 0 0 1 0]\n",
      " [0 0 1 0 1 1 0 0 0 0]\n",
      " [0 0 0 0 0 0 0 0 0 0]\n",
      " [0 0 0 0 1 0 0 0 1 1]\n",
      " [0 0 1 0 1 0 0 0 0 0]\n",
      " [0 0 0 0 0 0 0 0 0 0]]\n",
      "\n"
     ]
    }
   ],
   "source": [
    "vizResult(test_loss_idx[-1], test_arrays)"
   ]
  },
  {
   "cell_type": "code",
   "execution_count": null,
   "metadata": {},
   "outputs": [],
   "source": [
    "matrix_image, matrix_label = matrixMNIST(dataset_test, model_output_size, num_h=num_h, num_w=num_w)\n",
    "matrix_image = matrix_image.unsqueeze(0)\n",
    "matrix_image_gauss_tensor = torch.cat((matrix_image, matrix_label), dim=0)\n",
    "vizGaussNumber(matrix_image_gauss_tensor)"
   ]
  },
  {
   "cell_type": "code",
   "execution_count": null,
   "metadata": {},
   "outputs": [],
   "source": [
    "matrix_image = matrix_image.unsqueeze(0).to(device)\n",
    "matrix_label = matrix_label.unsqueeze(0).to(device)\n",
    "\n",
    "with torch.no_grad():\n",
    "    # forward\n",
    "    matrix_outputs = model_ce(matrix_image)\n",
    "    loss = crit(matrix_outputs, matrix_label)\n",
    "\n",
    "    print(f'Valor da perda: {loss.cpu().item()}')"
   ]
  },
  {
   "cell_type": "code",
   "execution_count": null,
   "metadata": {},
   "outputs": [],
   "source": [
    "matrix_image = matrix_image.cpu()[0]\n",
    "matrix_outputs = matrix_outputs.cpu()[0]"
   ]
  },
  {
   "cell_type": "code",
   "execution_count": null,
   "metadata": {},
   "outputs": [],
   "source": [
    "outputs_matrix_image_gauss_tensor = torch.cat((matrix_image, matrix_outputs), dim=0)\n",
    "vizGaussNumber(outputs_matrix_image_gauss_tensor)"
   ]
  },
  {
   "cell_type": "markdown",
   "metadata": {},
   "source": [
    "### Determinação de bounding boxes"
   ]
  },
  {
   "cell_type": "code",
   "execution_count": null,
   "metadata": {},
   "outputs": [],
   "source": [
    "matrix_outputs_array = matrix_outputs.numpy()"
   ]
  },
  {
   "cell_type": "code",
   "execution_count": null,
   "metadata": {},
   "outputs": [],
   "source": [
    "H = num_h * 28\n",
    "W = num_w * 28\n",
    "delta_dim = 28 // 2\n",
    "\n",
    "matrix_outputs_bbox_label = np.empty((H, W), dtype='uint8')\n",
    "matrix_outputs_bbox_sum = np.empty((H, W), dtype='float')\n",
    "\n",
    "for row in range(H):\n",
    "    row_start = np.maximum(0, row - delta_dim)\n",
    "    row_end = np.minimum(H, row + delta_dim)\n",
    "\n",
    "    for col in range(W):\n",
    "        col_start = np.maximum(0, col - delta_dim)\n",
    "        col_end = np.minimum(H, col + delta_dim)\n",
    "\n",
    "        matrix_outputs_sum = np.sum(matrix_outputs_array[:, row_start:row_end, col_start:col_end], axis=(1, 2))\n",
    "        matrix_outputs_bbox_label[row, col] = np.argmax(matrix_outputs_sum, axis=0)\n",
    "        matrix_outputs_bbox_sum[row, col] = matrix_outputs_sum[matrix_outputs_bbox_label[row, col]]\n",
    "\n",
    "bbox_threshold = 1\n",
    "bbox_delta = np.array([[[delta_dim]],[[delta_dim]]])\n",
    "matrix_outputs_bbox_idx = np.meshgrid(np.linspace(0,W-1,W), np.linspace(0,H-1,H))\n",
    "matrix_outputs_bbox_start = np.maximum(0, matrix_outputs_bbox_idx - bbox_delta)\n",
    "matrix_outputs_bbox_end = np.array([np.minimum(W, matrix_outputs_bbox_idx[0] + bbox_delta[0]),\n",
    "                                    np.minimum(H, matrix_outputs_bbox_idx[1] + bbox_delta[1])])\n",
    "\n",
    "for row in range(H):\n",
    "    row_start = np.maximum(0, row - delta_dim)\n",
    "    row_end = np.minimum(H, row + delta_dim)\n",
    "\n",
    "    for col in range(W):\n",
    "        col_start = np.maximum(0, col - delta_dim)\n",
    "        col_end = np.minimum(H, col + delta_dim)\n"
   ]
  },
  {
   "cell_type": "code",
   "execution_count": null,
   "metadata": {},
   "outputs": [],
   "source": [
    "print(matrix_outputs_bbox_sum[42])"
   ]
  },
  {
   "cell_type": "code",
   "execution_count": null,
   "metadata": {},
   "outputs": [],
   "source": []
  }
 ],
 "metadata": {
  "colab": {
   "name": "fullyconvMNIST.ipynb",
   "provenance": [],
   "version": "0.3.2"
  },
  "kernelspec": {
   "display_name": "Python 3",
   "language": "python",
   "name": "python3"
  },
  "language_info": {
   "codemirror_mode": {
    "name": "ipython",
    "version": 3
   },
   "file_extension": ".py",
   "mimetype": "text/x-python",
   "name": "python",
   "nbconvert_exporter": "python",
   "pygments_lexer": "ipython3",
   "version": "3.6.5"
  }
 },
 "nbformat": 4,
 "nbformat_minor": 1
}

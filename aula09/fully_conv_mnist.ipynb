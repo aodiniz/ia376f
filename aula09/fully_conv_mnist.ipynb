{
 "cells": [
  {
   "cell_type": "markdown",
   "metadata": {
    "colab_type": "text",
    "id": "1aXVR29SPZqw"
   },
   "source": [
    "# Rede com contração e expansão"
   ]
  },
  {
   "cell_type": "markdown",
   "metadata": {
    "colab_type": "text",
    "id": "Y_EzemfhPZq3"
   },
   "source": [
    "## Importando os módulos"
   ]
  },
  {
   "cell_type": "code",
   "execution_count": 1,
   "metadata": {
    "colab": {},
    "colab_type": "code",
    "id": "ro9yOJtrPZq5"
   },
   "outputs": [],
   "source": [
    "%matplotlib inline\n",
    "\n",
    "import numpy as np\n",
    "import matplotlib.pyplot as plt\n",
    "from collections import OrderedDict\n",
    "\n",
    "import torch\n",
    "import torchvision\n",
    "from torchvision.datasets import MNIST\n",
    "\n",
    "# our library\n",
    "from lib import pytorch_trainer_v2 as ptt"
   ]
  },
  {
   "cell_type": "code",
   "execution_count": 2,
   "metadata": {
    "colab": {},
    "colab_type": "code",
    "id": "KPnklmAgPZq-",
    "outputId": "f92b89fc-6717-44e4-bca4-4009bd4b3e13"
   },
   "outputs": [
    {
     "name": "stdout",
     "output_type": "stream",
     "text": [
      "Device: cuda\n"
     ]
    }
   ],
   "source": [
    "# verifica se a GPU esta disponivel\n",
    "if torch.cuda.is_available():\n",
    "    device = torch.device('cuda')\n",
    "else:\n",
    "    device = torch.device('cpu')\n",
    "\n",
    "print(\"Device:\", device)"
   ]
  },
  {
   "cell_type": "markdown",
   "metadata": {
    "colab_type": "text",
    "id": "MPTaqCRtPZrF"
   },
   "source": [
    "## Carregando MNIST dataset"
   ]
  },
  {
   "cell_type": "code",
   "execution_count": 3,
   "metadata": {
    "colab": {},
    "colab_type": "code",
    "id": "QY807Oc2PZrG",
    "outputId": "45287256-0d9a-4258-c185-7f9855931d65"
   },
   "outputs": [
    {
     "name": "stdout",
     "output_type": "stream",
     "text": [
      "Amostras para treinamento: 60000\n",
      "Amostras para validação: 10000\n",
      "<class 'torch.Tensor'>\n",
      "torch.Size([60000, 28, 28])\n",
      "tensor(0, dtype=torch.uint8) tensor(255, dtype=torch.uint8)\n"
     ]
    }
   ],
   "source": [
    "dataset_dir = './data/MNIST/'\n",
    "\n",
    "# Transforma os dados em tensores no intervalo [0.0, 1.0] (Os dados serão normalizados)\n",
    "data_transform = torchvision.transforms.ToTensor()\n",
    "\n",
    "# Carrega o conjunto de treinamento e de teste\n",
    "datasets = dict(train=MNIST(dataset_dir, train=True,  transform=data_transform, download=False),\n",
    "                val  =MNIST(dataset_dir, train=False, transform=data_transform, download=False))\n",
    "\n",
    "dataloaders = dict(train=torch.utils.data.DataLoader(dataset=datasets['train'], batch_size=32, shuffle=True),\n",
    "                   val  =torch.utils.data.DataLoader(dataset=datasets['val'],   batch_size=32, shuffle=False))\n",
    "\n",
    "print('Amostras para treinamento:', len(datasets['train']))\n",
    "print('Amostras para validação:', len(datasets['val']))\n",
    "print(type(datasets['train'].train_data))\n",
    "print(datasets['train'].train_data.size())\n",
    "print(datasets['train'].train_data.min(), datasets['train'].train_data.max())"
   ]
  },
  {
   "cell_type": "markdown",
   "metadata": {
    "colab_type": "text",
    "id": "RAtEGsg4PZrQ"
   },
   "source": [
    "## Definição do modelo com camadas densas"
   ]
  },
  {
   "cell_type": "code",
   "execution_count": 4,
   "metadata": {
    "colab": {},
    "colab_type": "code",
    "id": "7zlGcXS-PZrR"
   },
   "outputs": [],
   "source": [
    "class MyModel(torch.nn.Module):\n",
    "    def __init__(self):\n",
    "        super(MyModel, self).__init__()\n",
    "        \n",
    "        # Camadas convolucionais\n",
    "        self.conv_layer = torch.nn.Sequential(OrderedDict([\n",
    "            # lembrar de usar zero padding para manter o tamanho da imagem\n",
    "            ('conv1', torch.nn.Conv2d(in_channels=1, out_channels=20, kernel_size=5, padding=2)),   \n",
    "            ('relu1', torch.nn.ReLU()),\n",
    "            ('max_pool1', torch.nn.MaxPool2d(2)),\n",
    "\n",
    "            ('conv2', torch.nn.Conv2d(in_channels=20, out_channels=50, kernel_size=5, padding=2)),\n",
    "            ('relu2', torch.nn.ReLU()),\n",
    "            ('max_pool2', torch.nn.MaxPool2d(2)),\n",
    "            \n",
    "            ('drop', torch.nn.Dropout(p=0.5))\n",
    "        ]))\n",
    "        \n",
    "        # Camadas densas\n",
    "        self.dense_layer = torch.nn.Sequential(OrderedDict([\n",
    "            ('dense1', torch.nn.Linear(in_features=2450, out_features=80)),\n",
    "            ('relu1', torch.nn.ReLU()),\n",
    "            ('dense2', torch.nn.Linear(in_features=80, out_features=10)),\n",
    "        ]))\n",
    "        \n",
    "    def forward(self, x):\n",
    "        x = self.conv_layer(x)\n",
    "        x = x.view(-1, 2450)  # Transforma a matriz em vetor\n",
    "        x = self.dense_layer(x)\n",
    "        \n",
    "        return x"
   ]
  },
  {
   "cell_type": "markdown",
   "metadata": {
    "colab_type": "text",
    "id": "6cIYn-QgPZrL"
   },
   "source": [
    "## Treinamento"
   ]
  },
  {
   "cell_type": "code",
   "execution_count": 5,
   "metadata": {
    "colab": {},
    "colab_type": "code",
    "id": "JemWYhP_PZrM",
    "outputId": "be256931-a86d-423c-e2a7-a8434cf34370"
   },
   "outputs": [],
   "source": [
    "model_dir = './lenet-mnist'\n",
    "\n",
    "model = MyModel().to(device)\n",
    "\n",
    "# Calcula o erro pela CrossEntropy\n",
    "criterion = torch.nn.CrossEntropyLoss()\n",
    "\n",
    "# Otimizador\n",
    "optimizer = torch.optim.Adam(model.parameters())\n",
    "\n",
    "trainer = ptt.DeepNetTrainer(\n",
    "    model=model, \n",
    "    criterion   = criterion, \n",
    "    optimizer   = optimizer,\n",
    "    # Diminui o valor de lr por um fator de 0.1 a cada 7 epocas\n",
    "    lr_scheduler= torch.optim.lr_scheduler.StepLR(optimizer, step_size=7, gamma=0.1),\n",
    "    callbacks   = [ptt.AccuracyMetric(),\n",
    "                   ptt.PrintCallback(),\n",
    "                   ptt.ModelCheckpoint(model_dir, reset=True, verbose=1)\n",
    "                  ],\n",
    "    devname     = device\n",
    ")"
   ]
  },
  {
   "cell_type": "code",
   "execution_count": 6,
   "metadata": {},
   "outputs": [
    {
     "name": "stdout",
     "output_type": "stream",
     "text": [
      "Start training for 10 epochs\n",
      "  1:  14.2s   T: 0.00510 *  0.94928 *   V: 0.00190 *  0.98060 *  \n",
      "  2:  13.4s   T: 0.00193 *  0.98008     V: 0.00143 *  0.98600    \n",
      "  3:  13.6s   T: 0.00156 *  0.98407     V: 0.00122 *  0.98680    \n",
      "  4:  13.5s   T: 0.00124 *  0.98760     V: 0.00163    0.98180    \n",
      "  5:  13.4s   T: 0.00112 *  0.98858     V: 0.00111 *  0.98860    \n",
      "  6:  13.4s   T: 0.00096 *  0.98992     V: 0.00105 *  0.99010    \n",
      "  7:  13.4s   T: 0.00084 *  0.99105     V: 0.00140    0.98790    \n",
      "  8:  13.4s   T: 0.00054 *  0.99457     V: 0.00086 *  0.99170    \n",
      "  9:  13.4s   T: 0.00041 *  0.99582     V: 0.00089    0.99150    \n",
      " 10:  13.4s   T: 0.00036 *  0.99632     V: 0.00087    0.99210    \n",
      "Stop training at epoch: 10/10\n",
      "Best model was saved at epoch 8 with loss 0.00086: ./lenet-mnist\n"
     ]
    }
   ],
   "source": [
    "retrain = True\n",
    "if retrain:\n",
    "    trainer.fit_loader(n_epochs=10, train_data=dataloaders['train'], valid_data=dataloaders['val'])\n",
    "else:\n",
    "    trainer.load_state(model_dir)"
   ]
  },
  {
   "cell_type": "code",
   "execution_count": 7,
   "metadata": {
    "colab": {},
    "colab_type": "code",
    "id": "KI9N55jwPZra"
   },
   "outputs": [],
   "source": [
    "preds_dense = trainer.predict_classes_loader(dataloaders['val'])"
   ]
  },
  {
   "cell_type": "code",
   "execution_count": 8,
   "metadata": {
    "colab": {},
    "colab_type": "code",
    "id": "nSgu9tDoPZrh",
    "outputId": "ef80c4a6-3dba-44fa-a925-f194de997431"
   },
   "outputs": [
    {
     "data": {
      "text/plain": [
       "torch.Size([10000, 10])"
      ]
     },
     "execution_count": 8,
     "metadata": {},
     "output_type": "execute_result"
    }
   ],
   "source": [
    "preds = trainer.predict_loader( dataloaders['val'])\n",
    "preds.shape"
   ]
  },
  {
   "cell_type": "markdown",
   "metadata": {
    "colab_type": "text",
    "id": "xee8KwTUPZro"
   },
   "source": [
    "## Modelo totalmente convolucional equivalente"
   ]
  },
  {
   "cell_type": "markdown",
   "metadata": {
    "colab_type": "text",
    "id": "Zacsh8wbPZrp"
   },
   "source": [
    "O modelo seguinte é todo ele convolucional.\n",
    "\n",
    "A primeira camada densa do modelo tem como entrada um tensor de dimensão 2450, resultante do redimensionamento (via *Flatten*) da saída do *Dropout*, 50x7x7. Esta camada gera uma saída com dimensão 50. Seus pesos têm portanto dimensão 2450x50.\n",
    "\n",
    "Uma camada convolucional que substitua estas camadas *Flatten* e *Dense* terá como entrada um tensor 50x7x7. Para gerar uma saída 50x1x1, a convolução deve criar 50 mapas com um kernel 7x7 e com borda do tipo 'valid'.\n",
    "\n",
    "Para substituir a última camada densa, usamos uma convolução com 10 mapas e kernel 1x1.\n"
   ]
  },
  {
   "cell_type": "code",
   "execution_count": 9,
   "metadata": {
    "colab": {},
    "colab_type": "code",
    "id": "P8LW2aKoPZrr"
   },
   "outputs": [],
   "source": [
    "class MyModelFullyConv(torch.nn.Module):\n",
    "    def __init__(self):\n",
    "        super(MyModelFullyConv, self).__init__()\n",
    "        \n",
    "        # Camadas convolucionais\n",
    "        self.conv_layer = torch.nn.Sequential(OrderedDict([\n",
    "            # lembrar de usar zero padding para manter o tamanho da imagem\n",
    "            ('conv1', torch.nn.Conv2d(in_channels=1, out_channels=20, kernel_size=5, padding=2)),   \n",
    "            ('relu1', torch.nn.ReLU()),\n",
    "            ('max_pool1', torch.nn.MaxPool2d(2)),\n",
    "\n",
    "            ('conv2', torch.nn.Conv2d(in_channels=20, out_channels=50, kernel_size=5, padding=2)),\n",
    "            ('relu2', torch.nn.ReLU()),\n",
    "            ('max_pool2', torch.nn.MaxPool2d(2)),\n",
    "            \n",
    "            ('conv3', torch.nn.Conv2d(in_channels=50, out_channels=80, kernel_size=7)),\n",
    "            ('relu3', torch.nn.ReLU()),\n",
    "            \n",
    "            ('conv4', torch.nn.Conv2d(in_channels=80, out_channels=10, kernel_size=1)),\n",
    "        ]))\n",
    "        \n",
    "    def forward(self, x):\n",
    "        x = self.conv_layer(x)        \n",
    "        return x"
   ]
  },
  {
   "cell_type": "markdown",
   "metadata": {
    "colab_type": "text",
    "id": "YXrXmomnPZry"
   },
   "source": [
    "### Observando a saida de cada camada"
   ]
  },
  {
   "cell_type": "code",
   "execution_count": 10,
   "metadata": {
    "colab": {},
    "colab_type": "code",
    "id": "lT1vq4T9PZrz",
    "outputId": "d5d16f95-d97c-4011-c68e-ed168a2cc162"
   },
   "outputs": [
    {
     "name": "stdout",
     "output_type": "stream",
     "text": [
      "input     : torch.Size([1, 1, 28, 28])\n",
      "conv1     : torch.Size([1, 20, 28, 28])\n",
      "relu1     : torch.Size([1, 20, 28, 28])\n",
      "max_pool1 : torch.Size([1, 20, 14, 14])\n",
      "conv2     : torch.Size([1, 50, 14, 14])\n",
      "relu2     : torch.Size([1, 50, 14, 14])\n",
      "max_pool2 : torch.Size([1, 50, 7, 7])\n",
      "conv3     : torch.Size([1, 80, 1, 1])\n",
      "relu3     : torch.Size([1, 80, 1, 1])\n",
      "conv4     : torch.Size([1, 10, 1, 1])\n"
     ]
    }
   ],
   "source": [
    "model_conv = MyModelFullyConv().to(device)\n",
    "x = torch.autograd.Variable(torch.zeros(1, 1, 28, 28)).to(device)\n",
    "\n",
    "print('{:10}: {}'.format('input', str(x.size())))\n",
    "\n",
    "for name, layer in model_conv.conv_layer.named_children():\n",
    "    x = layer(x)\n",
    "    print('{:10}: {}'.format(name, str(x.size())))"
   ]
  },
  {
   "cell_type": "markdown",
   "metadata": {
    "colab_type": "text",
    "id": "bKTSlRNxPZr4"
   },
   "source": [
    "### comparando o tamanho dos pesos das duas redes"
   ]
  },
  {
   "cell_type": "code",
   "execution_count": 11,
   "metadata": {
    "colab": {},
    "colab_type": "code",
    "id": "I8Pwg1_FPZr6"
   },
   "outputs": [],
   "source": [
    "def print_weights_size(weight_dict):\n",
    "    for name, weight in weight_dict.items():\n",
    "        print('{:25} -> {}'.format(name, weight.shape))"
   ]
  },
  {
   "cell_type": "code",
   "execution_count": 13,
   "metadata": {
    "colab": {},
    "colab_type": "code",
    "id": "b4NXLp30PZr9",
    "outputId": "b013f6be-4cfe-4e53-8a30-ef1912eb704c"
   },
   "outputs": [
    {
     "name": "stdout",
     "output_type": "stream",
     "text": [
      "--Pesos no modelo dense--\n",
      "conv_layer.conv1.weight   -> torch.Size([20, 1, 5, 5])\n",
      "conv_layer.conv1.bias     -> torch.Size([20])\n",
      "conv_layer.conv2.weight   -> torch.Size([50, 20, 5, 5])\n",
      "conv_layer.conv2.bias     -> torch.Size([50])\n",
      "dense_layer.dense1.weight -> torch.Size([80, 2450])\n",
      "dense_layer.dense1.bias   -> torch.Size([80])\n",
      "dense_layer.dense2.weight -> torch.Size([10, 80])\n",
      "dense_layer.dense2.bias   -> torch.Size([10])\n",
      "\n",
      "--Pesos no modelo fully convolutional--\n",
      "conv_layer.conv1.weight   -> torch.Size([20, 1, 5, 5])\n",
      "conv_layer.conv1.bias     -> torch.Size([20])\n",
      "conv_layer.conv2.weight   -> torch.Size([50, 20, 5, 5])\n",
      "conv_layer.conv2.bias     -> torch.Size([50])\n",
      "conv_layer.conv3.weight   -> torch.Size([80, 50, 7, 7])\n",
      "conv_layer.conv3.bias     -> torch.Size([80])\n",
      "conv_layer.conv4.weight   -> torch.Size([10, 80, 1, 1])\n",
      "conv_layer.conv4.bias     -> torch.Size([10])\n"
     ]
    }
   ],
   "source": [
    "print('--Pesos no modelo dense--')\n",
    "print_weights_size(model.state_dict())\n",
    "print('\\n--Pesos no modelo fully convolutional--')\n",
    "print_weights_size(model_conv.state_dict())"
   ]
  },
  {
   "cell_type": "markdown",
   "metadata": {
    "colab_type": "text",
    "id": "wPRysA4APZsA"
   },
   "source": [
    "## Ajustando os pesos do modelo todo convolucional"
   ]
  },
  {
   "cell_type": "code",
   "execution_count": 14,
   "metadata": {
    "colab": {},
    "colab_type": "code",
    "id": "evsrC7QgPZsC"
   },
   "outputs": [],
   "source": [
    "w_dense = model.state_dict()\n",
    "w_conv  = model_conv.state_dict()\n",
    "\n",
    "# Só precisamos ajustar as dimensões dos pesos das camadas:\n",
    "# - dense1.weight para o tamanho de conv3.weight\n",
    "# - dense2.weight para o tamanho de conv4.weight\n",
    "# As outras camadas serão somente copiadas\n",
    "\n",
    "# weigths\n",
    "w_conv['conv_layer.conv1.weight'] = w_dense['conv_layer.conv1.weight']\n",
    "w_conv['conv_layer.conv2.weight'] = w_dense['conv_layer.conv2.weight']\n",
    "w_conv['conv_layer.conv3.weight'] = w_dense['dense_layer.dense1.weight'].view(80, 50, 7, 7)\n",
    "w_conv['conv_layer.conv4.weight'] = w_dense['dense_layer.dense2.weight'].view(10, 80, 1, 1)\n",
    "\n",
    "# bias\n",
    "w_conv['conv_layer.conv1.bias'] = w_dense['conv_layer.conv1.bias']\n",
    "w_conv['conv_layer.conv2.bias'] = w_dense['conv_layer.conv2.bias']\n",
    "w_conv['conv_layer.conv3.bias'] = w_dense['dense_layer.dense1.bias']\n",
    "w_conv['conv_layer.conv4.bias'] = w_dense['dense_layer.dense2.bias']\n",
    "\n",
    "model_conv.load_state_dict(w_conv)"
   ]
  },
  {
   "cell_type": "markdown",
   "metadata": {
    "colab_type": "text",
    "id": "pRqBNDDyPZsH"
   },
   "source": [
    "## Verificando se o desempenho é o mesmo"
   ]
  },
  {
   "cell_type": "markdown",
   "metadata": {
    "colab_type": "text",
    "id": "RaLhgW-sPZsH"
   },
   "source": [
    "Uma vez que colocamos na rede B os pesos da rede A, precisamos verificar se o desempenho da rede B (totalmente convolucional)\n",
    "possui o mesmo desempenho da rede A.\n",
    "Fazermos isso medindo a acurácia das duas redes no conjunto de testes."
   ]
  },
  {
   "cell_type": "code",
   "execution_count": 15,
   "metadata": {
    "colab": {},
    "colab_type": "code",
    "id": "IdRV464wPZsI"
   },
   "outputs": [],
   "source": [
    "preds_conv_img = trainer.predict_classes_loader(dataloaders['val'])\n",
    "preds_conv = torch.squeeze(preds_conv_img)"
   ]
  },
  {
   "cell_type": "code",
   "execution_count": 16,
   "metadata": {
    "colab": {},
    "colab_type": "code",
    "id": "BoMDY90mPZsK",
    "outputId": "b7aa22b0-1b38-4e83-afa3-49bc7b05681f"
   },
   "outputs": [
    {
     "name": "stdout",
     "output_type": "stream",
     "text": [
      "labels: [7 2 1 0 4 1 4 9 5 9]\n",
      "dense : [7 2 1 0 4 1 4 9 5 9]\n",
      "conv  : [7 2 1 0 4 1 4 9 5 9]\n"
     ]
    }
   ],
   "source": [
    "# Mostra os 10 primeiros elementos preditos\n",
    "labels = datasets['val'].test_labels\n",
    "\n",
    "print('{:6}: {}'.format('labels',     labels[:10].numpy()))\n",
    "print('{:6}: {}'.format('dense', preds_dense[:10].numpy()))\n",
    "print('{:6}: {}'.format('conv',   preds_conv[:10].numpy()))"
   ]
  },
  {
   "cell_type": "code",
   "execution_count": 17,
   "metadata": {
    "colab": {},
    "colab_type": "code",
    "id": "GTbgyD_gPZsP",
    "outputId": "e0368326-1221-4d92-fb8a-50cf7775a00b"
   },
   "outputs": [
    {
     "name": "stdout",
     "output_type": "stream",
     "text": [
      "Acurácia rede totalmente convolucional: 99%\n",
      "Acurácia rede clássica:                 99%\n"
     ]
    }
   ],
   "source": [
    "print('Acurácia rede totalmente convolucional: {}%'.format(100.0 *(preds_conv  == labels).sum() / labels.shape[0]))\n",
    "print('Acurácia rede clássica:                 {}%'.format(100.0 *(preds_dense == labels).sum() / labels.shape[0]))"
   ]
  },
  {
   "cell_type": "markdown",
   "metadata": {
    "colab_type": "text",
    "id": "IbBZI8RoPZsT"
   },
   "source": [
    "# Aplicando o classificador numa imagem maior que 28x28"
   ]
  },
  {
   "cell_type": "code",
   "execution_count": 18,
   "metadata": {
    "colab": {},
    "colab_type": "code",
    "id": "M9vdltTePZsU"
   },
   "outputs": [],
   "source": [
    "# Função para criar uma imagem de teste, maior que 28x28 colocando várias amostras\n",
    "def make_image(X_test, y_test, M=200, H=28, W=28):\n",
    "    char_index = np.random.choice(X_test.shape[0], 10, replace=False)\n",
    "    char_img = [img.reshape(H,W) for img in (X_test)[char_index]]\n",
    "    char_lab = [y for y in y_test[char_index]]\n",
    "\n",
    "    image = np.zeros((M, M), np.uint8)\n",
    "    coords = [(20, 20), (50, 150), (100, 100), (151, 151), (120,30)] # posição das imagens na imagem maior\n",
    "    xlabel = []\n",
    "    for k, (i, j) in enumerate(coords):\n",
    "        image[i:i+H, j:j+W] = char_img[k]\n",
    "        xlabel.append(char_lab[k])\n",
    "    return image, coords, xlabel"
   ]
  },
  {
   "cell_type": "code",
   "execution_count": 19,
   "metadata": {
    "colab": {},
    "colab_type": "code",
    "id": "x7O2-3avPZsX"
   },
   "outputs": [],
   "source": [
    "labels = datasets['val'].test_labels\n",
    "x_test = datasets['val'].test_data"
   ]
  },
  {
   "cell_type": "code",
   "execution_count": 20,
   "metadata": {
    "colab": {},
    "colab_type": "code",
    "id": "gHeTWgTYPZsc",
    "outputId": "dd94767c-8bdc-423f-8344-55b42f237417"
   },
   "outputs": [
    {
     "data": {
      "text/plain": [
       "<matplotlib.colorbar.Colorbar at 0x7f8c62bfd240>"
      ]
     },
     "execution_count": 20,
     "metadata": {},
     "output_type": "execute_result"
    },
    {
     "data": {
      "image/png": "[encoded data removed]",
      "text/plain": [
       "<Figure size 432x288 with 2 Axes>"
      ]
     },
     "metadata": {},
     "output_type": "display_data"
    }
   ],
   "source": [
    "M = 200\n",
    "image_uint8, coords, xlabel = make_image(x_test.numpy(), labels.numpy(), M) # Construindo uma imagem para testes M x M com 4 dígitos\n",
    "image = image_uint8/255.\n",
    "plt.imshow(image, cmap='gray')\n",
    "plt.colorbar()"
   ]
  },
  {
   "cell_type": "markdown",
   "metadata": {
    "colab_type": "text",
    "id": "hYOKEXoRPZsi"
   },
   "source": [
    "## Aplicando classificador na imagem 200 x 200"
   ]
  },
  {
   "cell_type": "code",
   "execution_count": 21,
   "metadata": {
    "colab": {},
    "colab_type": "code",
    "id": "gnR2Lp6LPZsj",
    "outputId": "c63448f7-3cbe-4c3b-aadf-94fda6f8b76a"
   },
   "outputs": [
    {
     "name": "stdout",
     "output_type": "stream",
     "text": [
      "tamanho na entrada:           torch.Size([1, 1, 200, 200])\n",
      "tamanho na saída:             torch.Size([1, 44, 44])\n",
      "tamanho após o padding:       torch.Size([50, 50])\n"
     ]
    }
   ],
   "source": [
    "# transforma imagem de input em Tensor e em seguida a coloca em uma variável\n",
    "in_image = image.reshape(1, 1, M, M)\n",
    "in_image = torch.from_numpy(in_image).type(torch.FloatTensor).to(device)\n",
    "#in_image = torch.autograd.Variable(in_image)\n",
    "\n",
    "print('{:30}{}'.format('tamanho na entrada:', in_image.size()))\n",
    "probs = ptt.predict_probas(model_conv, in_image)\n",
    "\n",
    "output = model_conv(torch.autograd.Variable(in_image))\n",
    "po = torch.nn.functional.softmax(output,dim=1)\n",
    "max_pred, max_class = torch.max(po, dim=1)\n",
    "\n",
    "max_pred_pad = torch.nn.functional.pad(max_pred.view(44,44),(3,3,3,3))\n",
    "print('{:30}{}'.format('tamanho na saída:', max_pred.shape))\n",
    "print('{:30}{}'.format('tamanho após o padding:', max_pred_pad.shape))"
   ]
  },
  {
   "cell_type": "code",
   "execution_count": 22,
   "metadata": {
    "colab": {},
    "colab_type": "code",
    "id": "RqicDTxFPZsq",
    "outputId": "6f5081c7-36d5-4801-850b-5b6b22cf82f6"
   },
   "outputs": [
    {
     "name": "stdout",
     "output_type": "stream",
     "text": [
      "tamanho do hot map:           (50, 50)\n"
     ]
    }
   ],
   "source": [
    "hot_map = max_pred_pad.data.cpu().numpy()\n",
    "print('{:30}{}'.format('tamanho do hot map:', hot_map.shape))"
   ]
  },
  {
   "cell_type": "code",
   "execution_count": 23,
   "metadata": {
    "colab": {},
    "colab_type": "code",
    "id": "0iJVA4_gPZsw",
    "outputId": "c4e4d871-36f2-4bc0-9185-0fc3d0a389f7"
   },
   "outputs": [
    {
     "data": {
      "image/png": "[encoded data removed]",
      "text/plain": [
       "<Figure size 432x288 with 2 Axes>"
      ]
     },
     "metadata": {},
     "output_type": "display_data"
    }
   ],
   "source": [
    "plt.imshow(hot_map, plt.cm.hot)\n",
    "plt.colorbar()\n",
    "plt.show()"
   ]
  },
  {
   "cell_type": "markdown",
   "metadata": {
    "colab_type": "text",
    "id": "ExbJv6kPPZs2"
   },
   "source": [
    "### Supressão de valores não máximos"
   ]
  },
  {
   "cell_type": "code",
   "execution_count": 24,
   "metadata": {
    "colab": {},
    "colab_type": "code",
    "id": "AW7IIdtMPZs3",
    "outputId": "e1a23cf6-44a5-480b-ab5d-b7c4ffda7eea"
   },
   "outputs": [
    {
     "data": {
      "text/plain": [
       "<matplotlib.image.AxesImage at 0x7f8c2352d748>"
      ]
     },
     "execution_count": 24,
     "metadata": {},
     "output_type": "execute_result"
    },
    {
     "data": {
      "image/png": "[encoded data removed]",
      "text/plain": [
       "<Figure size 432x288 with 1 Axes>"
      ]
     },
     "metadata": {},
     "output_type": "display_data"
    }
   ],
   "source": [
    "import skimage\n",
    "from skimage.morphology import square\n",
    "disk = square(11)\n",
    "disk[5,5]=0\n",
    "dil = skimage.morphology.dilation(np.clip(hot_map,0.6,1.0),disk)\n",
    "cc = hot_map >= dil\n",
    "plt.imshow(cc)"
   ]
  },
  {
   "cell_type": "markdown",
   "metadata": {
    "colab_type": "text",
    "id": "ktVAE26VPZs8"
   },
   "source": [
    "### Classe identificada em cada máximo"
   ]
  },
  {
   "cell_type": "code",
   "execution_count": 25,
   "metadata": {
    "colab": {},
    "colab_type": "code",
    "id": "JvjvWdsaPZs9",
    "outputId": "18a2480f-012e-49d4-a75a-29e55623d7e4"
   },
   "outputs": [
    {
     "name": "stdout",
     "output_type": "stream",
     "text": [
      "8 8 1.0 5\n",
      "9 8 1.0 5\n",
      "16 40 0.99988985 7\n",
      "28 28 1.0 7\n",
      "35 8 0.99999905 5\n",
      "41 41 0.9999943 1\n"
     ]
    }
   ],
   "source": [
    "max_class_pad = torch.nn.functional.pad(max_class.view(44,44),(3,3,3,3)).data.cpu().numpy()\n",
    "\n",
    "for r,c in np.transpose(np.nonzero(cc)):\n",
    "    print(r,c,hot_map[r,c],max_class_pad[r,c])"
   ]
  },
  {
   "cell_type": "code",
   "execution_count": 26,
   "metadata": {
    "colab": {},
    "colab_type": "code",
    "id": "IcgdsDvGPZtC",
    "outputId": "42622a6e-b546-41fb-9481-60e4c9c12fd0"
   },
   "outputs": [
    {
     "data": {
      "image/png": "[encoded data removed]",
      "text/plain": [
       "<Figure size 432x288 with 1 Axes>"
      ]
     },
     "metadata": {},
     "output_type": "display_data"
    }
   ],
   "source": [
    "plt.imshow(cc)\n",
    "for r,c in np.transpose(np.nonzero(cc)):\n",
    "    plt.text(c,r,max_class_pad[r,c] ,color='white', fontsize=24)\n",
    "plt.show()"
   ]
  },
  {
   "cell_type": "markdown",
   "metadata": {},
   "source": [
    "## Rede com contração e expansão"
   ]
  },
  {
   "cell_type": "code",
   "execution_count": 27,
   "metadata": {
    "colab": {},
    "colab_type": "code",
    "id": "P8LW2aKoPZrr"
   },
   "outputs": [],
   "source": [
    "class MyModelContractExpand(torch.nn.Module):\n",
    "    def __init__(self):\n",
    "        super(MyModelContractExpand, self).__init__()\n",
    "\n",
    "        self.conv1 = torch.nn.Conv2d(in_channels=1, out_channels=20, kernel_size=5, padding=2)\n",
    "        self.relu1 = torch.nn.ReLU()\n",
    "        self.max_pool1 = torch.nn.MaxPool2d(2, return_indices=True)\n",
    "\n",
    "        self.conv2 = torch.nn.Conv2d(in_channels=20, out_channels=50, kernel_size=5, padding=2)\n",
    "        self.relu2 = torch.nn.ReLU()\n",
    "        self.max_pool2 = torch.nn.MaxPool2d(2, return_indices=True)\n",
    "\n",
    "        self.relu3 = torch.nn.ReLU()\n",
    "\n",
    "        self.max_unpool2 = torch.nn.MaxUnpool2d(2)\n",
    "        self.relu4 = torch.nn.ReLU()\n",
    "        self.transp2 = torch.nn.ConvTranspose2d(in_channels=50, out_channels=20, kernel_size=5, padding=2)\n",
    "\n",
    "        self.max_unpool1 = torch.nn.MaxUnpool2d(2)\n",
    "        self.relu5 = torch.nn.ReLU()\n",
    "        self.transp1 = torch.nn.ConvTranspose2d(in_channels=20, out_channels=1, kernel_size=5, padding=2)\n",
    "\n",
    "    def forward(self, x):\n",
    "        x = self.conv1(x)\n",
    "        x = self.relu1(x)\n",
    "        x, indices1 = self.max_pool1(x)\n",
    "\n",
    "        x = self.conv2(x)\n",
    "        x = self.relu2(x)\n",
    "        x, indices2 = self.max_pool2(x)\n",
    "\n",
    "        x = self.relu3(x)\n",
    "\n",
    "        x = self.max_unpool2(x, indices2)\n",
    "        x = self.relu4(x)\n",
    "        x = self.transp2(x)\n",
    "\n",
    "        x = self.max_unpool1(x, indices1)\n",
    "        x = self.relu5(x)\n",
    "        x = self.transp1(x)\n",
    "\n",
    "        return x"
   ]
  },
  {
   "cell_type": "markdown",
   "metadata": {
    "colab_type": "text",
    "id": "YXrXmomnPZry"
   },
   "source": [
    "### Observando a saida de cada camada"
   ]
  },
  {
   "cell_type": "code",
   "execution_count": 28,
   "metadata": {
    "colab": {},
    "colab_type": "code",
    "id": "lT1vq4T9PZrz",
    "outputId": "d5d16f95-d97c-4011-c68e-ed168a2cc162"
   },
   "outputs": [
    {
     "name": "stdout",
     "output_type": "stream",
     "text": [
      "input     : torch.Size([1, 1, 28, 28])\n",
      "conv1     : torch.Size([1, 20, 28, 28])\n",
      "relu1     : torch.Size([1, 20, 28, 28])\n",
      "max_pool1 : torch.Size([1, 20, 14, 14])\n",
      "conv2     : torch.Size([1, 50, 14, 14])\n",
      "relu2     : torch.Size([1, 50, 14, 14])\n",
      "max_pool2 : torch.Size([1, 50, 7, 7])\n",
      "relu3     : torch.Size([1, 50, 7, 7])\n",
      "max_unpool2: torch.Size([1, 50, 14, 14])\n",
      "relu4     : torch.Size([1, 50, 14, 14])\n",
      "transp2   : torch.Size([1, 20, 14, 14])\n",
      "max_unpool1: torch.Size([1, 20, 28, 28])\n",
      "relu5     : torch.Size([1, 20, 28, 28])\n",
      "transp1   : torch.Size([1, 1, 28, 28])\n"
     ]
    }
   ],
   "source": [
    "model_contract_expand = MyModelContractExpand().to(device)\n",
    "x = torch.autograd.Variable(torch.zeros(1, 1, 28, 28)).to(device)\n",
    "inds = list()\n",
    "ind_idx = 0\n",
    "\n",
    "print('{:10}: {}'.format('input', str(x.size())))\n",
    "\n",
    "for name, layer in model_contract_expand.named_children():\n",
    "    if 'max_pool' in name:\n",
    "        x, inds_tensor = layer(x)\n",
    "        inds.append(inds_tensor)\n",
    "        ind_idx += 1\n",
    "    elif 'max_unpool' in name:\n",
    "        ind_idx -= 1\n",
    "        x = layer(x, inds[ind_idx])\n",
    "    else:\n",
    "        x = layer(x)\n",
    "\n",
    "    print('{:10}: {}'.format(name, str(x.size())))"
   ]
  },
  {
   "cell_type": "markdown",
   "metadata": {
    "colab_type": "text",
    "id": "bKTSlRNxPZr4"
   },
   "source": [
    "### comparando o tamanho dos pesos das duas redes"
   ]
  },
  {
   "cell_type": "code",
   "execution_count": 29,
   "metadata": {
    "colab": {},
    "colab_type": "code",
    "id": "b4NXLp30PZr9",
    "outputId": "b013f6be-4cfe-4e53-8a30-ef1912eb704c"
   },
   "outputs": [
    {
     "name": "stdout",
     "output_type": "stream",
     "text": [
      "\n",
      "--Pesos no modelo fully convolutional--\n",
      "conv_layer.conv1.weight   -> torch.Size([20, 1, 5, 5])\n",
      "conv_layer.conv1.bias     -> torch.Size([20])\n",
      "conv_layer.conv2.weight   -> torch.Size([50, 20, 5, 5])\n",
      "conv_layer.conv2.bias     -> torch.Size([50])\n",
      "conv_layer.conv3.weight   -> torch.Size([80, 50, 7, 7])\n",
      "conv_layer.conv3.bias     -> torch.Size([80])\n",
      "conv_layer.conv4.weight   -> torch.Size([10, 80, 1, 1])\n",
      "conv_layer.conv4.bias     -> torch.Size([10])\n",
      "--Pesos no modelo com contração e expansão--\n",
      "conv1.weight              -> torch.Size([20, 1, 5, 5])\n",
      "conv1.bias                -> torch.Size([20])\n",
      "conv2.weight              -> torch.Size([50, 20, 5, 5])\n",
      "conv2.bias                -> torch.Size([50])\n",
      "transp2.weight            -> torch.Size([50, 20, 5, 5])\n",
      "transp2.bias              -> torch.Size([20])\n",
      "transp1.weight            -> torch.Size([20, 1, 5, 5])\n",
      "transp1.bias              -> torch.Size([1])\n"
     ]
    }
   ],
   "source": [
    "print('\\n--Pesos no modelo fully convolutional--')\n",
    "print_weights_size(model_conv.state_dict())\n",
    "print('--Pesos no modelo com contração e expansão--')\n",
    "print_weights_size(model_contract_expand.state_dict())"
   ]
  },
  {
   "cell_type": "markdown",
   "metadata": {
    "colab_type": "text",
    "id": "wPRysA4APZsA"
   },
   "source": [
    "## Ajustando os pesos do modelo com contração e expansão"
   ]
  },
  {
   "cell_type": "code",
   "execution_count": 30,
   "metadata": {
    "colab": {},
    "colab_type": "code",
    "id": "evsrC7QgPZsC"
   },
   "outputs": [],
   "source": [
    "w_conv  = model_conv.state_dict()\n",
    "w_contract_expand  = model_contract_expand.state_dict()\n",
    "\n",
    "# weigths\n",
    "w_contract_expand['conv1.weight'] = w_conv['conv_layer.conv1.weight']\n",
    "w_contract_expand['conv2.weight'] = w_conv['conv_layer.conv2.weight']\n",
    "w_contract_expand['transp1.weight'] = w_conv['conv_layer.conv1.weight']\n",
    "w_contract_expand['transp2.weight'] = w_conv['conv_layer.conv2.weight']\n",
    "\n",
    "# bias\n",
    "w_contract_expand['conv1.bias'] = w_conv['conv_layer.conv1.bias']\n",
    "w_contract_expand['conv2.bias'] = w_conv['conv_layer.conv2.bias']\n",
    "w_contract_expand['transp1.bias'] = w_conv['conv_layer.conv1.bias'].mean(0, keepdim=True)\n",
    "w_contract_expand['transp2.bias'] = w_conv['conv_layer.conv1.bias']\n",
    "\n",
    "model_contract_expand.load_state_dict(w_contract_expand)"
   ]
  },
  {
   "cell_type": "markdown",
   "metadata": {
    "colab_type": "text",
    "id": "IbBZI8RoPZsT"
   },
   "source": [
    "## Aplicando o classificador numa imagem maior que 28x28"
   ]
  },
  {
   "cell_type": "code",
   "execution_count": 31,
   "metadata": {},
   "outputs": [],
   "source": [
    "def gaussianMap(H=28, W=28, sigma=1.0, mu=0.0, denorm=1.0):\n",
    "    x, y = np.meshgrid(np.linspace(-1,1,W), np.linspace(-1,1,H))\n",
    "    d = np.sqrt(x*x+y*y)\n",
    "    return np.exp(-( (d-mu)**2 / ( 2.0 * sigma**2 ) ) ) * denorm"
   ]
  },
  {
   "cell_type": "code",
   "execution_count": 32,
   "metadata": {},
   "outputs": [
    {
     "name": "stdout",
     "output_type": "stream",
     "text": [
      "[[0.36787944 0.50661699 0.59452055 0.59452055 0.50661699 0.36787944]\n",
      " [0.57375342 0.79013177 0.92722822 0.92722822 0.79013177 0.57375342]\n",
      " [0.57375342 0.79013177 0.92722822 0.92722822 0.79013177 0.57375342]\n",
      " [0.36787944 0.50661699 0.59452055 0.59452055 0.50661699 0.36787944]]\n"
     ]
    }
   ],
   "source": [
    "gm = gaussianMap(H=4, W=6)\n",
    "print(gm)"
   ]
  },
  {
   "cell_type": "code",
   "execution_count": 33,
   "metadata": {},
   "outputs": [
    {
     "name": "stdout",
     "output_type": "stream",
     "text": [
      "[[  4   7  12  17  23  29  33  34  33  29  23  17  12   7   4]\n",
      " [  7  13  21  30  40  49  56  58  56  49  40  30  21  13   7]\n",
      " [ 12  21  33  47  63  78  88  91  88  78  63  47  33  21  12]\n",
      " [ 17  30  47  69  91 112 127 132 127 112  91  69  47  30  17]\n",
      " [ 23  40  63  91 122 150 169 176 169 150 122  91  63  40  23]\n",
      " [ 29  49  78 112 150 183 207 216 207 183 150 112  78  49  29]\n",
      " [ 33  56  88 127 169 207 235 244 235 207 169 127  88  56  33]\n",
      " [ 34  58  91 132 176 216 244 255 244 216 176 132  91  58  34]\n",
      " [ 33  56  88 127 169 207 235 244 235 207 169 127  88  56  33]\n",
      " [ 29  49  78 112 150 183 207 216 207 183 150 112  78  49  29]\n",
      " [ 23  40  63  91 122 150 169 176 169 150 122  91  63  40  23]\n",
      " [ 17  30  47  69  91 112 127 132 127 112  91  69  47  30  17]\n",
      " [ 12  21  33  47  63  78  88  91  88  78  63  47  33  21  12]\n",
      " [  7  13  21  30  40  49  56  58  56  49  40  30  21  13   7]\n",
      " [  4   7  12  17  23  29  33  34  33  29  23  17  12   7   4]]\n"
     ]
    }
   ],
   "source": [
    "gm = gaussianMap(H=15, W=15, sigma=0.5, denorm=255.0)\n",
    "print(gm.astype('uint8'))"
   ]
  },
  {
   "cell_type": "code",
   "execution_count": 34,
   "metadata": {
    "colab": {},
    "colab_type": "code",
    "id": "M9vdltTePZsU"
   },
   "outputs": [],
   "source": [
    "# Função para criar uma imagem de teste, maior que 28x28 colocando várias amostras\n",
    "def make_image_heat_map(X_test, y_test, M=200, H=28, W=28):\n",
    "    char_index = np.random.choice(X_test.shape[0], 10, replace=False)\n",
    "    char_img = [img.reshape(H,W) for img in (X_test)[char_index]]\n",
    "    char_lab = [y for y in y_test[char_index]]\n",
    "    gm = gaussianMap(H=H, W=W, sigma=0.5, denorm=255.0).astype('uint8')\n",
    "\n",
    "    image = np.zeros((M, M), np.uint8)\n",
    "    heat_map = np.zeros((M, M), np.uint8)\n",
    "    coords = [(20, 20), (50, 150), (100, 100), (151, 151), (120,30)] # posição das imagens na imagem maior\n",
    "    xlabel = []\n",
    "    for k, (i, j) in enumerate(coords):\n",
    "        image[i:i+H, j:j+W] = char_img[k]\n",
    "        heat_map[i:i+H, j:j+W] = gm\n",
    "        xlabel.append(char_lab[k])\n",
    "    return image, heat_map, coords, xlabel"
   ]
  },
  {
   "cell_type": "code",
   "execution_count": 35,
   "metadata": {
    "colab": {},
    "colab_type": "code",
    "id": "I8Pwg1_FPZr6"
   },
   "outputs": [],
   "source": [
    "def print_weights_size(weight_dict):\n",
    "    for name, weight in weight_dict.items():\n",
    "        print('{:25} -> {}'.format(name, weight.shape))"
   ]
  },
  {
   "cell_type": "code",
   "execution_count": 36,
   "metadata": {
    "colab": {},
    "colab_type": "code",
    "id": "x7O2-3avPZsX"
   },
   "outputs": [],
   "source": [
    "labels = datasets['val'].test_labels\n",
    "x_test = datasets['val'].test_data"
   ]
  },
  {
   "cell_type": "code",
   "execution_count": 37,
   "metadata": {
    "colab": {},
    "colab_type": "code",
    "id": "gHeTWgTYPZsc",
    "outputId": "dd94767c-8bdc-423f-8344-55b42f237417"
   },
   "outputs": [
    {
     "data": {
      "text/plain": [
       "<matplotlib.image.AxesImage at 0x7f8c23499c50>"
      ]
     },
     "execution_count": 37,
     "metadata": {},
     "output_type": "execute_result"
    },
    {
     "data": {
      "image/png": "[encoded data removed]",
      "text/plain": [
       "<Figure size 432x288 with 2 Axes>"
      ]
     },
     "metadata": {},
     "output_type": "display_data"
    }
   ],
   "source": [
    "M = 200\n",
    "\n",
    "# Construindo uma imagem para testes M x M com 5 dígitos\n",
    "image_uint8, heat_map_uint8, coords, xlabel = make_image_heat_map(x_test.numpy(), labels.numpy(), M)\n",
    "image = image_uint8/255.\n",
    "heat_map = heat_map_uint8/255.\n",
    "\n",
    "fig = plt.figure()\n",
    "ax = fig.add_subplot(1, 2, 1)\n",
    "ax.imshow(image, cmap='gray')\n",
    "\n",
    "ax = fig.add_subplot(1, 2, 2)\n",
    "ax.imshow(heat_map, cmap='gray')"
   ]
  },
  {
   "cell_type": "markdown",
   "metadata": {
    "colab_type": "text",
    "id": "hYOKEXoRPZsi"
   },
   "source": [
    "## Aplicando classificador na imagem 200 x 200"
   ]
  },
  {
   "cell_type": "code",
   "execution_count": 38,
   "metadata": {
    "colab": {},
    "colab_type": "code",
    "id": "gnR2Lp6LPZsj",
    "outputId": "c63448f7-3cbe-4c3b-aadf-94fda6f8b76a"
   },
   "outputs": [
    {
     "name": "stdout",
     "output_type": "stream",
     "text": [
      "tamanho da image:             torch.Size([1, 1, 200, 200])\n",
      "tamanho do heat map:          torch.Size([1, 1, 200, 200])\n",
      "tamanho na saída:             torch.Size([1, 1, 200, 200])\n"
     ]
    }
   ],
   "source": [
    "# transforma imagem e heat map em Tensores e em seguida a coloca em uma variável\n",
    "in_image = image.reshape(1, 1, M, M)\n",
    "in_heat_map = heat_map.reshape(1, 1, M, M)\n",
    "\n",
    "in_image = torch.from_numpy(in_image).type(torch.FloatTensor).to(device)\n",
    "in_heat_map = torch.from_numpy(in_heat_map).type(torch.FloatTensor).to(device)\n",
    "\n",
    "#in_image = torch.autograd.Variable(in_image)\n",
    "#in_heat_map = torch.autograd.Variable(in_heat_map)\n",
    "\n",
    "print('{:30}{}'.format('tamanho da image:', in_image.size()))\n",
    "print('{:30}{}'.format('tamanho do heat map:', in_heat_map.size()))\n",
    "probs = ptt.predict_probas(model_contract_expand, in_image)\n",
    "\n",
    "output = model_contract_expand(torch.autograd.Variable(in_image))\n",
    "\n",
    "print('{:30}{}'.format('tamanho na saída:', output.shape))"
   ]
  },
  {
   "cell_type": "code",
   "execution_count": 41,
   "metadata": {
    "colab": {},
    "colab_type": "code",
    "id": "0iJVA4_gPZsw",
    "outputId": "c4e4d871-36f2-4bc0-9185-0fc3d0a389f7"
   },
   "outputs": [
    {
     "data": {
      "text/plain": [
       "<matplotlib.image.AxesImage at 0x7f8c234a7a58>"
      ]
     },
     "execution_count": 41,
     "metadata": {},
     "output_type": "execute_result"
    },
    {
     "data": {
      "image/png": "[encoded data removed]",
      "text/plain": [
       "<Figure size 792x288 with 3 Axes>"
      ]
     },
     "metadata": {},
     "output_type": "display_data"
    }
   ],
   "source": [
    "fig = plt.figure(figsize=(11, 4))\n",
    "ax = fig.add_subplot(1, 3, 1)\n",
    "ax.imshow(in_image[0][0].cpu().numpy(), cmap='gray')\n",
    "\n",
    "ax = fig.add_subplot(1, 3, 2)\n",
    "ax.imshow(in_heat_map[0][0].cpu().numpy(), cmap='gray')\n",
    "\n",
    "ax = fig.add_subplot(1, 3, 3)\n",
    "ax.imshow(output[0][0].cpu().detach().numpy(), cmap='gray')"
   ]
  }
 ],
 "metadata": {
  "colab": {
   "name": "fullyconvMNIST.ipynb",
   "provenance": [],
   "version": "0.3.2"
  },
  "kernelspec": {
   "display_name": "Python 3",
   "language": "python",
   "name": "python3"
  },
  "language_info": {
   "codemirror_mode": {
    "name": "ipython",
    "version": 3
   },
   "file_extension": ".py",
   "mimetype": "text/x-python",
   "name": "python",
   "nbconvert_exporter": "python",
   "pygments_lexer": "ipython3",
   "version": "3.6.5"
  }
 },
 "nbformat": 4,
 "nbformat_minor": 1
}
